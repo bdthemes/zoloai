{
 "cells": [
  {
   "cell_type": "code",
   "execution_count": 3,
   "metadata": {
    "id": "IlUbOQZLaVDq"
   },
   "outputs": [],
   "source": [
    "# !pip install nanoid"
   ]
  },
  {
   "cell_type": "code",
   "execution_count": 1,
   "metadata": {
    "id": "T_M2XhqqaQee"
   },
   "outputs": [],
   "source": [
    "import re\n",
    "from nanoid import generate\n",
    "import random"
   ]
  },
  {
   "cell_type": "code",
   "execution_count": 15,
   "metadata": {
    "id": "uhHyVU4EJt4W"
   },
   "outputs": [],
   "source": [
    "class Container():\n",
    "  def __init__(self, html_code, parameters, promts_list, container_fill_list):\n",
    "    self.block_type = \"container\"\n",
    "    self.html_code = html_code\n",
    "    self.parameters = parameters # dictionary of parameters name with its max value or value list ex: {\"ContainerGapGap\":\"2000\", \"Position\":[\"top\", \"bottom\"]}\n",
    "    self.promts_list = promts_list\n",
    "    self.container_fill_list = container_fill_list\n",
    "\n",
    "  # function to generate unique IDs\n",
    "  def gen_uniqueId(self):\n",
    "    # generate unique ID\n",
    "    # identified by [UNIQUE_ID] in the code\n",
    "    block_type = self.block_type\n",
    "    unique_ID_char = generate(\"123456789abcdefghijklmnopqrstuvwxyz\",size=8) # 8 character long  only number and alphabet\n",
    "    unique_ID = f\"{block_type}-{unique_ID_char}\"\n",
    "    return unique_ID\n",
    "\n",
    "  def replace_params(self, string, replacements):\n",
    "    # Regular expression to match custom placeholders\n",
    "    pattern = r'\\[([^\\[\\]]*)\\]'\n",
    "    return re.sub(pattern, lambda match: replacements.get(match.group(1), match.group(0)), string)\n",
    "\n",
    "  def gen_replacements(self):\n",
    "    replacement_dict = {}\n",
    "\n",
    "    # genrate random values for the changable parameters\n",
    "    for parameter_name in self.parameters:\n",
    "      values = self.parameters[parameter_name]\n",
    "      if type(values).__name__ == \"str\":\n",
    "        max_value = int(values)\n",
    "        value = random.randint(0, max_value)\n",
    "        temp_dict = {parameter_name:str(value)}\n",
    "        replacement_dict.update(temp_dict)\n",
    "\n",
    "      else:\n",
    "        value = random.choice(values)\n",
    "        temp_dict = {parameter_name:value}\n",
    "        replacement_dict.update(temp_dict)\n",
    "\n",
    "    # generate unique id_1\n",
    "    unique_id = self.gen_uniqueId()\n",
    "    temp_dict = {\"UNIQUE_ID_1\":unique_id}\n",
    "    replacement_dict.update(temp_dict)\n",
    "    \n",
    "    # generate unique id_2\n",
    "    unique_id = self.gen_uniqueId()\n",
    "    temp_dict = {\"UNIQUE_ID_2\":unique_id}\n",
    "    replacement_dict.update(temp_dict)\n",
    "\n",
    "    # takes random promt and its generated description by chatgpt\n",
    "    promt = random.choice(self.promts_list)\n",
    "    promt_index = self.promts_list.index(promt)\n",
    "    container_fill = self.container_fill_list[promt_index]\n",
    "    temp_dict = {\"GENERATED_PARAGRAPH_1\":container_fill}\n",
    "    replacement_dict.update(temp_dict)\n",
    "    \n",
    "    promt = random.choice(self.promts_list)\n",
    "    promt_index = self.promts_list.index(promt)\n",
    "    container_fill = self.container_fill_list[promt_index]\n",
    "    temp_dict = {\"GENERATED_PARAGRAPH_2\":container_fill}\n",
    "    replacement_dict.update(temp_dict)\n",
    "\n",
    "    return replacement_dict, promt\n",
    "\n",
    "  def dataset(self, dataset_length):\n",
    "    code = []\n",
    "    promts = []\n",
    "    with open('data_two_column_id_1.txt', 'w',  encoding=\"utf8\") as data_file:\n",
    "      for _ in range(dataset_length):\n",
    "        replacement_dict, promt = self.gen_replacements()\n",
    "        gen_html = self.replace_params(self.html_code, replacement_dict)\n",
    "\n",
    "        # save to the text file\n",
    "        data = f\"<s> [INST] <<SYS>> Generate HTML code in ZOLO format. uniqueId must be of 8 character <<\\SYS>> {promt} [/INST] {gen_html} </s> \\n\"\n",
    "        # data = f\"<｜begin▁of▁sentence｜> Generate HTML code with CSS style in ZOLO format. ### Instruction: {promt} ### Response: {gen_html}\\n\"\n",
    "        data_file.write(data)\n",
    "\n",
    "        promts.append(promt)\n",
    "        code.append(gen_html)\n",
    "\n",
    "    return code, promts"
   ]
  },
  {
   "cell_type": "code",
   "execution_count": 89,
   "metadata": {
    "id": "xNVZajOJypKS"
   },
   "outputs": [],
   "source": [
    "# debugging purpose\n",
    "# def replace_params(string, replacements):\n",
    "#     # Regular expression to match custom placeholders\n",
    "#     # pattern = r'\\[(.*?)\\]'\n",
    "#     pattern = r'\\[([^\\[\\]]*)\\]'\n",
    "#     return re.sub(pattern, lambda match: replacements.get(match.group(1), match.group(0)), string)\n",
    "\n",
    "# string = \"Hello, [name]! Your age is [asdf-[name]].\"\n",
    "# replacements = {\"name\": \"45\"}\n",
    "# formatted_string = replace_params(string, replacements)\n",
    "# print(formatted_string)"
   ]
  },
  {
   "cell_type": "code",
   "execution_count": 16,
   "metadata": {
    "id": "yjmYn4Juhu0f"
   },
   "outputs": [],
   "source": [
    "html_code = \"\"\"<!-- wp:zolo/container {\"variationStatus\":true,\"isBlockRootParent\":true,\"zolo_ContainerGapGap\":[ContainerGapGap_Main],\"zolo_ContentWidthRange\":[ContentWidthRange_Main],\"zolo_MinHeightRange\":[MinHeightRange_Main],\"uniqueId\":\"[UNIQUE_ID_1]\",\"parentClasses\":[\"zolo-block parent-[UNIQUE_ID_1]\"],\"zoloStyles\":{\"desktop\":\".[UNIQUE_ID_1].block-editor-block-list__block.wp-block-zolo-container \\u003e .zolo-container-inner-blocks-wrap,.wp-block-zolo-container.zolo-root-container.alignfull.[UNIQUE_ID_1] \\u003e .zolo-container-inner-blocks-wrap { max-width:[ContentWidthRange_Main]px }.is-root-container \\u003e .block-editor-block-list__block .block-editor-block-list__block#block-6fd81acc-a47d-474c-82a3-cf17aa46642e,.wp-block-zolo-container.zolo-root-container.frontend .[UNIQUE_ID_1] { max-width:100%; width:100% }.[UNIQUE_ID_1] { min-height:[MinHeightRange_Main]px }.[UNIQUE_ID_1].wp-block-zolo-container \\u003e .zolo-container-inner-blocks-wrap \\u003e .block-editor-inner-blocks \\u003e .block-editor-block-list__layout,.[UNIQUE_ID_1].wp-block-zolo-container.zolo-root-container.alignfull \\u003e .zolo-container-inner-blocks-wrap { gap:[ContainerGapGap_Main]px; flex-direction:row; flex-wrap:nowrap; justify-content:center; align-items:center }\",\"tab\":\".is-root-container \\u003e .block-editor-block-list__block .block-editor-block-list__block#block-6fd81acc-a47d-474c-82a3-cf17aa46642e,.wp-block-zolo-container.zolo-root-container.frontend .[UNIQUE_ID_1] { width:100% }\",\"mobile\":\".is-root-container \\u003e .block-editor-block-list__block .block-editor-block-list__block#block-6fd81acc-a47d-474c-82a3-cf17aa46642e,.wp-block-zolo-container.zolo-root-container.frontend .[UNIQUE_ID_1] { width:100% }\"}} --> <div class=\"wp-block-zolo-container [UNIQUE_ID_1] alignfull zolo-root-container frontend zolo-block parent-[UNIQUE_ID_1]\"><div class=\"zolo-container-inner-blocks-wrap\"><!-- wp:zolo/container {\"zolo_ContainerGapGap\":[ContainerGapGap_1],\"zolo_ContainerWidthRange\":[ContentWidthRange_1],\"zolo_TABContainerWidthRange\":100,\"zolo_TABContainerWidthUnit\":\"%\",\"zolo_MinHeightRange\":[MinHeightRange_1],\"FlexDirectionZRPAlign\":\"column\",\"uniqueId\":\"container-0724suae\",\"parentClasses\":[\"zolo-block parent-container-0724suae\"],\"zoloStyles\":{\"desktop\":\".container-0724suae.block-editor-block-list__block.wp-block-zolo-container \\u003e .zolo-container-inner-blocks-wrap,.wp-block-zolo-container.zolo-root-container.alignfull.container-0724suae \\u003e .zolo-container-inner-blocks-wrap { max-width:1200px }.is-root-container \\u003e .block-editor-block-list__block .block-editor-block-list__block#block-160a1371-a6fe-4150-9282-4414d1f32e31,.wp-block-zolo-container.zolo-root-container.frontend .container-0724suae { max-width:[ContentWidthRange_1]px; width:100% }.container-0724suae { min-height:[MinHeightRange_1]px }.container-0724suae.wp-block-zolo-container \\u003e .block-editor-inner-blocks \\u003e .block-editor-block-list__layout,.container-0724suae.wp-block-zolo-container.frontend { gap:[ContainerGapGap_1]px; flex-direction:column; flex-wrap:nowrap; justify-content:center; align-items:center }\",\"tab\":\".is-root-container \\u003e .block-editor-block-list__block .block-editor-block-list__block#block-160a1371-a6fe-4150-9282-4414d1f32e31,.wp-block-zolo-container.zolo-root-container.frontend .container-0724suae { max-width:100%; width:100% }\",\"mobile\":\".is-root-container \\u003e .block-editor-block-list__block .block-editor-block-list__block#block-160a1371-a6fe-4150-9282-4414d1f32e31,.wp-block-zolo-container.zolo-root-container.frontend .container-0724suae { width:100% }\"}} --> <div class=\"wp-block-zolo-container container-0724suae frontend zolo-block parent-container-0724suae\"><!-- wp:paragraph --> <p>[GENERATED_PARAGRAPH_1]</p> <!-- /wp:paragraph --></div> <!-- /wp:zolo/container --> <!-- wp:zolo/container {\"zolo_ContainerGapGap\":[ContainerGapGap_2],\"zolo_ContainerWidthRange\":[ContentWidthRange_2],\"zolo_TABContainerWidthRange\":100,\"zolo_TABContainerWidthUnit\":\"%\",\"zolo_MinHeightRange\":[MinHeightRange_2],\"FlexDirectionZRPAlign\":\"column\",\"uniqueId\":\"[UNIQUE_ID_2]\",\"parentClasses\":[\"zolo-block parent-[UNIQUE_ID_2]\"],\"zoloStyles\":{\"desktop\":\".[UNIQUE_ID_2].block-editor-block-list__block.wp-block-zolo-container \\u003e .zolo-container-inner-blocks-wrap,.wp-block-zolo-container.zolo-root-container.alignfull.[UNIQUE_ID_2] \\u003e .zolo-container-inner-blocks-wrap { max-width:1200px }.is-root-container \\u003e .block-editor-block-list__block .block-editor-block-list__block#block-0c06dc24-3b16-42ea-9eed-4d4d0b195e36,.wp-block-zolo-container.zolo-root-container.frontend .[UNIQUE_ID_2] { max-width:[ContentWidthRange_2]px; width:100% }.[UNIQUE_ID_2] { min-height:[MinHeightRange_2]px }.[UNIQUE_ID_2].wp-block-zolo-container \\u003e .block-editor-inner-blocks \\u003e .block-editor-block-list__layout,.[UNIQUE_ID_2].wp-block-zolo-container.frontend { gap:[ContainerGapGap_2]px; flex-direction:column; flex-wrap:nowrap; justify-content:center; align-items:center }\",\"tab\":\".is-root-container \\u003e .block-editor-block-list__block .block-editor-block-list__block#block-0c06dc24-3b16-42ea-9eed-4d4d0b195e36,.wp-block-zolo-container.zolo-root-container.frontend .[UNIQUE_ID_2] { max-width:100%; width:100% }\",\"mobile\":\".is-root-container \\u003e .block-editor-block-list__block .block-editor-block-list__block#block-0c06dc24-3b16-42ea-9eed-4d4d0b195e36,.wp-block-zolo-container.zolo-root-container.frontend .[UNIQUE_ID_2] { width:100% }\"}} --> <div class=\"wp-block-zolo-container [UNIQUE_ID_2] frontend zolo-block parent-[UNIQUE_ID_2]\"><!-- wp:paragraph --> <p>[GENERATED_PARAGRAPH_2]</p> <!-- /wp:paragraph --></div> <!-- /wp:zolo/container --></div></div> <!-- /wp:zolo/container -->\"\"\"\n",
    "parameters = {\"ContentWidthRange_Main\": \"2000\", \"MinHeightRange_Main\": \"1000\", \"ContainerGapGap_Main\": \"200\", \n",
    "              \"ContentWidthRange_1\": \"2000\", \"MinHeightRange_1\": \"1000\", \"ContainerGapGap_1\": \"200\",\n",
    "              \"ContentWidthRange_2\": \"2000\", \"MinHeightRange_2\": \"1000\", \"ContainerGapGap_2\": \"200\",\n",
    "             }\n",
    "\n",
    "promts_list = [\n",
    "\"Craft a paragraph discussing the characteristics of oranges and grapes, presented in a two-column format.\",\n",
    "\"Compose a paragraph describing the functionalities of desktop computers and laptops, arranged neatly into two columns.\",\n",
    "\"Generate a paragraph detailing the specifications of televisions and gaming consoles, organized into two columns.\",\n",
    "\"Write a paragraph outlining the features of bicycles and scooters, displayed in a two-column format.\",\n",
    "\"Develop a paragraph discussing the advantages of apples and bananas, formatted into two columns.\",\n",
    "\"Construct a paragraph detailing the attributes of digital cameras and smartphones, presented in a two-column layout.\",\n",
    "\"Formulate a paragraph describing the performance of running shoes and hiking boots, arranged neatly in two columns.\",\n",
    "\"Craft a paragraph discussing the qualities of strawberries and raspberries, displayed in a two-column format.\",\n",
    "\"Generate a paragraph outlining the functionalities of tablets and e-readers, organized into two columns.\",\n",
    "\"Write a paragraph detailing the features of coffee makers and espresso machines, presented in a two-column layout.\",\n",
    "\"Develop a paragraph describing the capabilities of cars and motorcycles, formatted into two columns.\",\n",
    "\"Compose a paragraph discussing the advantages of laptops and desktop computers, arranged neatly in two columns.\",\n",
    "\"Generate a paragraph outlining the specifications of smartphones and smartwatches, organized into two columns.\",\n",
    "\"Construct a paragraph detailing the characteristics of televisions and sound systems, displayed in a two-column format.\",\n",
    "\"Formulate a paragraph discussing the functionalities of refrigerators and dishwashers, presented in a two-column layout.\",\n",
    "\"Craft a paragraph describing the features of sneakers and sandals, arranged neatly into two columns.\",\n",
    "\"Write a paragraph outlining the performance of digital cameras and camcorders, formatted into two columns.\",\n",
    "\"Develop a paragraph discussing the attributes of oranges and tangerines, presented in a two-column layout.\",\n",
    "\"Compose a paragraph detailing the advantages of strawberries and blueberries, organized into two columns.\",\n",
    "\"Generate a paragraph outlining the functionalities of bicycles and electric scooters, displayed in a two-column format.\",\n",
    "\"Construct a paragraph describing the specifications of gaming consoles and personal computers, presented in a two-column layout.\",\n",
    "\"Formulate a paragraph discussing the features of apples and pears, arranged neatly into two columns.\",\n",
    "\"Craft a paragraph detailing the capabilities of smartphones and tablets, formatted into two columns.\",\n",
    "\"Write a paragraph outlining the characteristics of running shoes and hiking boots, presented in a two-column format.\",\n",
    "\"Develop a paragraph discussing the advantages of grapes and cherries, organized into two columns.\",\n",
    "\"Compose a paragraph describing the functionalities of laptops and desktop computers, displayed in a two-column layout.\",\n",
    "\"Generate a paragraph outlining the features of televisions and home theater systems, arranged neatly into two columns.\",\n",
    "\"Construct a paragraph detailing the performance of coffee makers and espresso machines, presented in a two-column format.\",\n",
    "\"Formulate a paragraph discussing the attributes of cars and bicycles, organized into two columns.\",\n",
    "\"Craft a paragraph outlining the specifications of smartphones and digital cameras, arranged neatly in two columns.\",\n",
    "\"Write a paragraph describing the advantages of oranges and apples, formatted into two columns.\",\n",
    "\"Develop a paragraph discussing the functionalities of tablets and e-readers, presented in a two-column layout.\",\n",
    "\"Compose a paragraph detailing the features of sneakers and flip-flops, arranged neatly into two columns.\",\n",
    "\"Generate a paragraph outlining the capabilities of laptops and tablets, organized into two columns.\",\n",
    "\"Construct a paragraph discussing the characteristics of strawberries and raspberries, presented in a two-column format.\",\n",
    "\"Formulate a paragraph describing the performance of televisions and soundbars, displayed in a two-column layout.\",\n",
    "\"Craft a paragraph detailing the advantages of coffee makers and French presses, arranged neatly into two columns.\",\n",
    "\"Write a paragraph outlining the specifications of bicycles and electric scooters, formatted into two columns.\",\n",
    "\"Develop a paragraph discussing the functionalities of smartphones and smartwatches, presented in a two-column format.\",\n",
    "\"Compose a paragraph describing the features of refrigerators and dishwashers, arranged neatly into two columns.\",\n",
    "\"Generate a paragraph outlining the characteristics of running shoes and trail running shoes, organized into two columns.\",\n",
    "\"Construct a paragraph detailing the attributes of apples and oranges, displayed in a two-column layout.\",\n",
    "\"Formulate a paragraph discussing the advantages of laptops and desktop computers, presented in a two-column format.\",\n",
    "\"Craft a paragraph outlining the functionalities of gaming consoles and personal computers, arranged neatly into two columns.\",\n",
    "\"Write a paragraph describing the performance of smartphones and digital cameras, formatted into two columns.\",\n",
    "\"Develop a paragraph discussing the features of televisions and home theater systems, presented in a two-column layout.\",\n",
    "\"Compose a paragraph detailing the specifications of coffee makers and espresso machines, arranged neatly into two columns.\",\n",
    "\"Generate a paragraph outlining the capabilities of cars and bicycles, organized into two columns.\",\n",
    "\"Construct a paragraph discussing the characteristics of smartphones and tablets, displayed in a two-column format.\",\n",
    "\"Formulate a paragraph describing the advantages of sneakers and flip-flops, presented in a two-column layout.\"\n",
    "]\n",
    "\n",
    "container_fill_list = [\n",
    "    \"Bananas are rich in potassium, while oranges are packed with vitamin C.\",\n",
    "\"Laptops offer portability, while tablets provide touchscreen convenience.\",\n",
    "\"Televisions display vibrant colors, and gaming consoles offer immersive gameplay.\",\n",
    "\"Bicycles promote exercise, and scooters offer compact city transport.\",\n",
    "\"Apples are crisp and refreshing, and bananas are naturally sweet.\",\n",
    "\"Digital cameras capture high-resolution images, and smartphones offer versatility.\",\n",
    "\"Running shoes provide cushioning, while hiking boots offer durability.\",\n",
    "\"Strawberries are juicy and sweet, while raspberries have a tart flavor.\",\n",
    "\"Tablets are versatile devices, and e-readers are optimized for reading.\",\n",
    "\"Coffee makers brew aromatic coffee, and espresso machines make rich espressos.\",\n",
    "\"Cars provide convenience, while motorcycles offer agility.\",\n",
    "\"Laptops offer power, and desktop computers provide customization.\",\n",
    "\"Smartphones offer connectivity, and smartwatches offer convenience.\",\n",
    "\"Televisions provide entertainment, and sound systems offer immersive audio.\",\n",
    "\"Refrigerators keep food fresh, and dishwashers make cleaning hassle-free.\",\n",
    "\"Sneakers offer comfort, while sandals provide breathability.\",\n",
    "\"Digital cameras capture memories, while camcorders record videos.\",\n",
    "\"Oranges are citrusy and refreshing, while tangerines are sweet and tangy.\",\n",
    "\"Strawberries are packed with antioxidants, and blueberries are rich in nutrients.\",\n",
    "\"Bicycles are eco-friendly, and electric scooters offer easy commuting.\",\n",
    "\"Gaming consoles provide entertainment, and personal computers offer productivity.\",\n",
    "\"Apples are crunchy and sweet, and pears are juicy and fragrant.\",\n",
    "\"Smartphones offer versatility, and tablets provide portability.\",\n",
    "\"Running shoes offer support, while hiking boots provide traction.\",\n",
    "\"Grapes are juicy and flavorful, while cherries are sweet and tart.\",\n",
    "\"Laptops offer mobility, and desktop computers provide power.\",\n",
    "\"Televisions offer entertainment, and home theater systems provide cinematic experiences.\",\n",
    "\"Coffee makers brew coffee, and espresso machines create espresso shots.\",\n",
    "\"Cars offer transportation, while bicycles provide exercise.\",\n",
    "\"Smartphones are multifunctional, and digital cameras capture memories.\",\n",
    "\"Oranges are citrusy and tangy, and apples are crisp and sweet.\",\n",
    "\"Tablets offer versatility, and e-readers are lightweight and portable.\",\n",
    "\"Sneakers provide comfort, while flip-flops offer convenience.\",\n",
    "\"Laptops provide flexibility, and tablets offer touchscreen convenience.\",\n",
    "\"Televisions display vivid images, and soundbars enhance audio.\",\n",
    "\"Coffee makers brew aromatic coffee, and French presses offer bold flavors.\",\n",
    "\"Bicycles offer transportation, while electric scooters provide eco-friendly commuting.\",\n",
    "\"Smartphones offer connectivity, and smartwatches provide notifications.\",\n",
    "\"Refrigerators keep food fresh, while dishwashers save time on cleaning.\",\n",
    "\"Running shoes offer support, while trail running shoes provide grip on uneven terrain.\",\n",
    "\"Apples are crunchy and juicy, and oranges are citrusy and refreshing.\",\n",
    "\"Laptops offer portability, and desktop computers provide power.\",\n",
    "\"Gaming consoles offer entertainment, and personal computers provide versatility.\",\n",
    "\"Smartphones offer photography features, and digital cameras provide high-quality images.\",\n",
    "\"Televisions offer high-definition displays, and home theater systems provide surround sound.\",\n",
    "\"Coffee makers brew coffee, and espresso machines create espresso.\",\n",
    "\"Cars offer transportation, and bicycles provide eco-friendly mobility.\",\n",
    "\"Smartphones offer communication, and tablets provide entertainment.\",\n",
    "\"Sneakers offer comfort, and flip-flops provide ease of wear.\",\n",
    "\"Sneakers offer comfort, and flip-flops provide ease of wear.\" \n",
    "]"
   ]
  },
  {
   "cell_type": "code",
   "execution_count": 17,
   "metadata": {
    "id": "0c0BzWdcxvAC"
   },
   "outputs": [],
   "source": [
    "container = Container(html_code, parameters, promts_list, container_fill_list)"
   ]
  },
  {
   "cell_type": "code",
   "execution_count": 18,
   "metadata": {
    "id": "9H3SF-Qc1rDU"
   },
   "outputs": [],
   "source": [
    "data_point = 500\n",
    "code, promts = container.dataset(data_point)"
   ]
  },
  {
   "cell_type": "code",
   "execution_count": 8,
   "metadata": {
    "colab": {
     "base_uri": "https://localhost:8080/",
     "height": 122
    },
    "id": "uVRk1rPQ4Lvi",
    "outputId": "f055967d-5711-41f0-e662-6752856b914d"
   },
   "outputs": [
    {
     "data": {
      "text/plain": [
       "'<!-- wp:zolo/container {\"variationStatus\":true,\"isBlockRootParent\":true,\"zolo_ContainerGapGap\":150,\"zolo_ContentWidthRange\":76,\"zolo_MinHeightRange\":296,\"uniqueId\":\"container-5q3rewvm\",\"parentClasses\":[\"zolo-block parent-container-5q3rewvm\"],\"zoloStyles\":{\"desktop\":\".container-5q3rewvm.block-editor-block-list__block.wp-block-zolo-container > .zolo-container-inner-blocks-wrap,.wp-block-zolo-container.zolo-root-container.alignfull.container-5q3rewvm > .zolo-container-inner-blocks-wrap { max-width:76px }.is-root-container > .block-editor-block-list__block .block-editor-block-list__block#block-6fd81acc-a47d-474c-82a3-cf17aa46642e,.wp-block-zolo-container.zolo-root-container.frontend .container-5q3rewvm { max-width:100%; width:100% }.container-5q3rewvm { min-height:296px }.container-5q3rewvm.wp-block-zolo-container > .zolo-container-inner-blocks-wrap > .block-editor-inner-blocks > .block-editor-block-list__layout,.container-5q3rewvm.wp-block-zolo-container.zolo-root-container.alignfull > .zolo-container-inner-blocks-wrap { gap:150px; flex-direction:row; flex-wrap:nowrap; justify-content:center; align-items:center }\",\"tab\":\".is-root-container > .block-editor-block-list__block .block-editor-block-list__block#block-6fd81acc-a47d-474c-82a3-cf17aa46642e,.wp-block-zolo-container.zolo-root-container.frontend .container-5q3rewvm { width:100% }\",\"mobile\":\".is-root-container > .block-editor-block-list__block .block-editor-block-list__block#block-6fd81acc-a47d-474c-82a3-cf17aa46642e,.wp-block-zolo-container.zolo-root-container.frontend .container-5q3rewvm { width:100% }\"}} --> <div class=\"wp-block-zolo-container container-5q3rewvm alignfull zolo-root-container frontend zolo-block parent-container-5q3rewvm\"><div class=\"zolo-container-inner-blocks-wrap\"><!-- wp:zolo/container {\"zolo_ContainerGapGap\":125,\"zolo_ContainerWidthRange\":1742,\"zolo_TABContainerWidthRange\":100,\"zolo_TABContainerWidthUnit\":\"%\",\"zolo_MinHeightRange\":477,\"FlexDirectionZRPAlign\":\"column\",\"uniqueId\":\"container-0724suae\",\"parentClasses\":[\"zolo-block parent-container-0724suae\"],\"zoloStyles\":{\"desktop\":\".container-0724suae.block-editor-block-list__block.wp-block-zolo-container > .zolo-container-inner-blocks-wrap,.wp-block-zolo-container.zolo-root-container.alignfull.container-0724suae > .zolo-container-inner-blocks-wrap { max-width:1200px }.is-root-container > .block-editor-block-list__block .block-editor-block-list__block#block-160a1371-a6fe-4150-9282-4414d1f32e31,.wp-block-zolo-container.zolo-root-container.frontend .container-0724suae { max-width:1742px; width:100% }.container-0724suae { min-height:477px }.container-0724suae.wp-block-zolo-container > .block-editor-inner-blocks > .block-editor-block-list__layout,.container-0724suae.wp-block-zolo-container.frontend { gap:125px; flex-direction:column; flex-wrap:nowrap; justify-content:center; align-items:center }\",\"tab\":\".is-root-container > .block-editor-block-list__block .block-editor-block-list__block#block-160a1371-a6fe-4150-9282-4414d1f32e31,.wp-block-zolo-container.zolo-root-container.frontend .container-0724suae { max-width:100%; width:100% }\",\"mobile\":\".is-root-container > .block-editor-block-list__block .block-editor-block-list__block#block-160a1371-a6fe-4150-9282-4414d1f32e31,.wp-block-zolo-container.zolo-root-container.frontend .container-0724suae { width:100% }\"}} --> <div class=\"wp-block-zolo-container container-0724suae frontend zolo-block parent-container-0724suae\"><!-- wp:paragraph --> <p>Gaming consoles provide entertainment, and personal computers offer productivity.</p> <!-- /wp:paragraph --></div> <!-- /wp:zolo/container --> <!-- wp:zolo/container {\"zolo_ContainerGapGap\":46,\"zolo_ContainerWidthRange\":857,\"zolo_TABContainerWidthRange\":100,\"zolo_TABContainerWidthUnit\":\"%\",\"zolo_MinHeightRange\":440,\"FlexDirectionZRPAlign\":\"column\",\"uniqueId\":\"container-1hpdc3zm\",\"parentClasses\":[\"zolo-block parent-container-1hpdc3zm\"],\"zoloStyles\":{\"desktop\":\".container-1hpdc3zm.block-editor-block-list__block.wp-block-zolo-container > .zolo-container-inner-blocks-wrap,.wp-block-zolo-container.zolo-root-container.alignfull.container-1hpdc3zm > .zolo-container-inner-blocks-wrap { max-width:1200px }.is-root-container > .block-editor-block-list__block .block-editor-block-list__block#block-0c06dc24-3b16-42ea-9eed-4d4d0b195e36,.wp-block-zolo-container.zolo-root-container.frontend .container-1hpdc3zm { max-width:857px; width:100% }.container-1hpdc3zm { min-height:440px }.container-1hpdc3zm.wp-block-zolo-container > .block-editor-inner-blocks > .block-editor-block-list__layout,.container-1hpdc3zm.wp-block-zolo-container.frontend { gap:46px; flex-direction:column; flex-wrap:nowrap; justify-content:center; align-items:center }\",\"tab\":\".is-root-container > .block-editor-block-list__block .block-editor-block-list__block#block-0c06dc24-3b16-42ea-9eed-4d4d0b195e36,.wp-block-zolo-container.zolo-root-container.frontend .container-1hpdc3zm { max-width:100%; width:100% }\",\"mobile\":\".is-root-container > .block-editor-block-list__block .block-editor-block-list__block#block-0c06dc24-3b16-42ea-9eed-4d4d0b195e36,.wp-block-zolo-container.zolo-root-container.frontend .container-1hpdc3zm { width:100% }\"}} --> <div class=\"wp-block-zolo-container container-1hpdc3zm frontend zolo-block parent-container-1hpdc3zm\"><!-- wp:paragraph --> <p>Grapes are juicy and flavorful, while cherries are sweet and tart.</p> <!-- /wp:paragraph --></div> <!-- /wp:zolo/container --></div></div> <!-- /wp:zolo/container -->'"
      ]
     },
     "execution_count": 8,
     "metadata": {},
     "output_type": "execute_result"
    }
   ],
   "source": [
    "# Sample code\n",
    "code[499]"
   ]
  }
 ],
 "metadata": {
  "colab": {
   "provenance": []
  },
  "kernelspec": {
   "display_name": "Python 3 (ipykernel)",
   "language": "python",
   "name": "python3"
  },
  "language_info": {
   "codemirror_mode": {
    "name": "ipython",
    "version": 3
   },
   "file_extension": ".py",
   "mimetype": "text/x-python",
   "name": "python",
   "nbconvert_exporter": "python",
   "pygments_lexer": "ipython3",
   "version": "3.10.4"
  }
 },
 "nbformat": 4,
 "nbformat_minor": 4
}
