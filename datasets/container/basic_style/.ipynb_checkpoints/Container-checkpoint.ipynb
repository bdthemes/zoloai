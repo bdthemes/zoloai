{
 "cells": [
  {
   "cell_type": "code",
   "execution_count": 4,
   "id": "e12a54e8-20b9-4d46-828b-6d23b208ff50",
   "metadata": {},
   "outputs": [],
   "source": [
    "import re\n",
    "from nanoid import generate\n",
    "import pandas as pd\n",
    "import random\n",
    "import json"
   ]
  },
  {
   "cell_type": "code",
   "execution_count": 50,
   "id": "0e7f3c93-db7e-4366-b3e3-a846c4c2cdd4",
   "metadata": {},
   "outputs": [],
   "source": [
    "# Container output style\n",
    "# ++{\"Block_Name\": \"Name\", \"Container_ID\": ID, \"Paragraph_List\":[List of paragraph]}++, \n",
    "# "
   ]
  },
  {
   "cell_type": "code",
   "execution_count": 44,
   "id": "c9ef5f29",
   "metadata": {},
   "outputs": [],
   "source": [
    "class Container():\n",
    "  def __init__(self, generated_input):\n",
    "    self.block_type = \"container\"\n",
    "    self.code_all = pd.read_csv (r'containers_info.csv')\n",
    "    self.container_id = generated_input[\"Container_ID\"]\n",
    "    self.paragraph_list = generated_input[\"Paragraph_List\"]\n",
    "    self.unique_id_count = self.code_all[self.code_all[\"container_index\"] == self.container_id][\"unique_id_count\"].values[0]\n",
    "    self.block_id_count = self.code_all[self.code_all[\"container_index\"] == self.container_id][\"block_id_count\"].values[0]\n",
    "    self.paragraph_count = self.code_all[self.code_all[\"container_index\"] == self.container_id][\"paragraph_count\"].values[0]\n",
    "    self.html_code =  self.code_all[self.code_all[\"container_index\"] == self.container_id][\"boiler_plate_code\"].values[0]\n",
    "    \n",
    "  # function to generate unique IDs\n",
    "  def gen_uniqueId(self):\n",
    "    # generate unique ID\n",
    "    # identified by [UNIQUE_ID] in the code\n",
    "    block_type = self.block_type\n",
    "    unique_ID_char = generate(\"123456789abcdefghijklmnopqrstuvwxyz\",size=8) # 8 character long  only number and alphabet\n",
    "    unique_ID = f\"{block_type}-{unique_ID_char}\"\n",
    "    return unique_ID\n",
    "    \n",
    "  def generate_block_id(self) -> \"str\":\n",
    "    # example id \"8a4130b5-1364-45b6-9dc4-53e1135edc81\"\n",
    "    # total 5 parts\n",
    "    id_1 = generate(\"123456789abcdefghijklmnopqrstuvwxyz\",size=8)\n",
    "    id_2 = generate(\"123456789abcdefghijklmnopqrstuvwxyz\",size=4)\n",
    "    id_3 = generate(\"123456789abcdefghijklmnopqrstuvwxyz\",size=4)\n",
    "    id_4 = generate(\"123456789abcdefghijklmnopqrstuvwxyz\",size=4)\n",
    "    id_5 = generate(\"123456789abcdefghijklmnopqrstuvwxyz\",size=12)\n",
    "    block_id = f\"{id_1}-{id_2}-{id_3}-{id_4}-{id_5}\"\n",
    "    return block_id\n",
    "\n",
    "  def replace_params(self, string, replacements):\n",
    "    # Regular expression to match custom placeholders\n",
    "    pattern = r'\\[([^\\[\\]]*)\\]'\n",
    "    return re.sub(pattern, lambda match: replacements.get(match.group(1), match.group(0)), string)\n",
    "\n",
    "  def gen_replacements(self):\n",
    "    replacement_dict = {}\n",
    "\n",
    "    # generate BLOCK_ID\n",
    "    for loop_count in range(self.block_id_count):\n",
    "        block_id = self.generate_block_id()\n",
    "        block_id_name = f\"BLOCK_ID_{loop_count}\"\n",
    "        temp_dict = {block_id_name:block_id}\n",
    "        replacement_dict.update(temp_dict)\n",
    "\n",
    "    # generate UNIQUE_ID\n",
    "    for loop_count in range(self.unique_id_count):\n",
    "        unique_id = self.gen_uniqueId()\n",
    "        unique_id_name = f\"UNIQUE_ID_{loop_count}\"\n",
    "        temp_dict = {unique_id_name:unique_id}\n",
    "        replacement_dict.update(temp_dict)\n",
    "    \n",
    "    # paragraph list\n",
    "    for loop_count in range(self.paragraph_count):\n",
    "        try:\n",
    "            temp_paragraph = self.paragraph_list[loop_count]\n",
    "        except:\n",
    "            temp_paragraph = \"This is generated paragraph, replace with your own paragraph.\"\n",
    "            \n",
    "        paragraph_id = f\"GENERATED_PARAGRAPH_{loop_count+1}\"\n",
    "        temp_dict = {paragraph_id:temp_paragraph}\n",
    "        replacement_dict.update(temp_dict)\n",
    "\n",
    "    return replacement_dict\n",
    "\n",
    "  def get_code(self):\n",
    "    replacement_dict = self.gen_replacements()\n",
    "    gen_html = self.replace_params(self.html_code, replacement_dict)\n",
    "\n",
    "    return gen_html"
   ]
  },
  {
   "cell_type": "code",
   "execution_count": 52,
   "id": "00fa369f-c68d-49a6-a2d6-c8a7af998337",
   "metadata": {},
   "outputs": [],
   "source": [
    "# Debugging\n",
    "# sample_input = {\"Block_Name\": \"Container\", \"Container_ID\": 3, \"Paragraph_List\":[\"Test 1\", \"Test 2\"]}\n",
    "# container  = Container(sample_input)\n",
    "# text = container.get_code()\n",
    "# print(text)"
   ]
  }
 ],
 "metadata": {
  "kernelspec": {
   "display_name": "Python 3 (ipykernel)",
   "language": "python",
   "name": "python3"
  },
  "language_info": {
   "codemirror_mode": {
    "name": "ipython",
    "version": 3
   },
   "file_extension": ".py",
   "mimetype": "text/x-python",
   "name": "python",
   "nbconvert_exporter": "python",
   "pygments_lexer": "ipython3",
   "version": "3.10.4"
  }
 },
 "nbformat": 4,
 "nbformat_minor": 5
}
