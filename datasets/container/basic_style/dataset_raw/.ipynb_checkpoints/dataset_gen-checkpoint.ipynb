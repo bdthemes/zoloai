{
 "cells": [
  {
   "cell_type": "markdown",
   "id": "9dd11b36-e661-455b-b9ec-e477afcd5ec0",
   "metadata": {
    "tags": []
   },
   "source": [
    "# Container 0"
   ]
  },
  {
   "cell_type": "code",
   "execution_count": 1,
   "id": "ad1068ce-9875-46a4-a278-6a5a473511d3",
   "metadata": {},
   "outputs": [],
   "source": [
    "import pandas as pd\n",
    "import random\n",
    "import nltk\n",
    "import ast"
   ]
  },
  {
   "cell_type": "code",
   "execution_count": 2,
   "id": "c66e6966-4ce1-40ab-aa8f-a3b312c913b7",
   "metadata": {},
   "outputs": [],
   "source": [
    "# ++{\"Block_Name\": \"Name\", \"Container_ID\": ID, \"Paragraph_List\":[List of paragraph]}++,"
   ]
  },
  {
   "cell_type": "code",
   "execution_count": 26,
   "id": "90db9717-b1b1-4abe-9b04-945073b80a8a",
   "metadata": {},
   "outputs": [
    {
     "name": "stdout",
     "output_type": "stream",
     "text": [
      "['Input_Prompt' 'Paragraph_list']\n",
      "prompt_list length = 15\n",
      "title_list length = 15\n"
     ]
    },
    {
     "data": {
      "text/plain": [
       "'<s> [INST] <<SYS>> Generate ZOLO block code required for the user input. Strictly follow the output format. Start output with ++ and end with ++ <<\\\\SYS>>User input: Explore the evolution of smartphones over the past decade. [/INST] ++Output = {\"Block_Name\": \"Container\", \"Container_ID\": 0, \"Paragraph_List\":[\"Within a container, capture the essence of 5G\\'s potential to transform connectivity, offering seamless and ubiquitous access.\"]}++ </s> \\n'"
      ]
     },
     "execution_count": 26,
     "metadata": {},
     "output_type": "execute_result"
    }
   ],
   "source": [
    "container_0_info = pd.read_csv(r\"container_0.csv\")\n",
    "print(container_0_info.columns.values)\n",
    "\n",
    "container_id = 0\n",
    "paragraph_count = 1\n",
    "\n",
    "prompt_list = ast.literal_eval(container_0_info['Input_Prompt'].values[0])\n",
    "paragraph_list = ast.literal_eval(container_0_info['Paragraph_list'].values[0])\n",
    "\n",
    "print(f\"prompt_list length = {len(prompt_list)}\")\n",
    "print(f\"title_list length = {len(paragraph_list)}\")\n",
    "\n",
    "# Output style\n",
    "# {\"Block_Name\": \"Name\", \"Container_ID\": ID, \"Paragraph_List\":[List of paragraph]}\n",
    "\n",
    "# Whole Prompt style\n",
    "# <s> [INST] <<SYS>> Generate ZOLO block code required for the user input. Strictly follow the output format. \n",
    "# Start output with ++ and end with ++ <<\\SYS>>User input: {promt} [/INST] ++Output = {Output}++ </s> \\n\n",
    "\n",
    "length = 150\n",
    "\n",
    "container_0_prompts = []\n",
    "\n",
    "for indx in range(length):\n",
    "    # Select prompt\n",
    "    try:\n",
    "        prompt = prompt_list[indx]\n",
    "    except:\n",
    "        prompt = random.choice(prompt_list)\n",
    "        \n",
    "    # Select Titles\n",
    "    paragraphs = [random.choice(paragraph_list) for _ in range(paragraph_count)]\n",
    "    \n",
    "    output = f\"{{\\\"Block_Name\\\": \\\"Container\\\", \\\"Container_ID\\\": {container_id}, \\\"Paragraph_List\\\":{paragraphs}}}\"\n",
    "    whole_prompt = f\"<s> [INST] <<SYS>> Generate ZOLO block code required for the user input. Strictly follow the output format. Start output with ++ and end with ++ <<\\SYS>>User input: {prompt} [/INST] ++Output = {output}++ </s> \\n\"\n",
    "    container_0_prompts.append(whole_prompt)\n",
    "    \n",
    "container_0_prompts[0]    "
   ]
  },
  {
   "cell_type": "markdown",
   "id": "719e00aa-e132-4288-aa93-2b5fe549d792",
   "metadata": {
    "tags": []
   },
   "source": [
    "# Container 1"
   ]
  },
  {
   "cell_type": "code",
   "execution_count": 27,
   "id": "a05ba762-98a7-468f-9c48-194c73de8ab4",
   "metadata": {},
   "outputs": [
    {
     "name": "stdout",
     "output_type": "stream",
     "text": [
      "['Input_Prompt' 'Paragraph_list']\n",
      "prompt_list length = 52\n",
      "title_list length = 15\n"
     ]
    },
    {
     "data": {
      "text/plain": [
       "'<s> [INST] <<SYS>> Generate ZOLO block code required for the user input. Strictly follow the output format. Start output with ++ and end with ++ <<\\\\SYS>>User input: Talk about electric cars and renewable energy sources. [/INST] ++Output = {\"Block_Name\": \"Container\", \"Container_ID\": 1, \"Paragraph_List\":[\\'Technological advancements continuously drive smartphone innovation, pushing boundaries and expanding possibilities.\\', \\'The implications of 5G deployment for various industries are summarized briefly, highlighting transformative potentials.\\']}++ </s> \\n'"
      ]
     },
     "execution_count": 27,
     "metadata": {},
     "output_type": "execute_result"
    }
   ],
   "source": [
    "container_1_info = pd.read_csv(r\"container_1.csv\")\n",
    "print(container_1_info.columns.values)\n",
    "\n",
    "container_id = 1\n",
    "paragraph_count = 2\n",
    "\n",
    "prompt_list = ast.literal_eval(container_1_info['Input_Prompt'].values[0])\n",
    "paragraph_list = ast.literal_eval(container_0_info['Paragraph_list'].values[0])\n",
    "\n",
    "print(f\"prompt_list length = {len(prompt_list)}\")\n",
    "print(f\"title_list length = {len(paragraph_list)}\")\n",
    "\n",
    "# Output style\n",
    "# {\"Block_Name\": \"Name\", \"Container_ID\": ID, \"Paragraph_List\":[List of paragraph]}\n",
    "\n",
    "# Whole Prompt style\n",
    "# <s> [INST] <<SYS>> Generate ZOLO block code required for the user input. Strictly follow the output format. \n",
    "# Start output with ++ and end with ++ <<\\SYS>>User input: {promt} [/INST] ++Output = {Output}++ </s> \\n\n",
    "\n",
    "length = 150\n",
    "\n",
    "container_1_prompts = []\n",
    "\n",
    "for indx in range(length):\n",
    "    # Select prompt\n",
    "    try:\n",
    "        prompt = prompt_list[indx]\n",
    "    except:\n",
    "        prompt = random.choice(prompt_list)\n",
    "        \n",
    "    # Select Titles\n",
    "    paragraphs = [random.choice(paragraph_list) for _ in range(paragraph_count)]\n",
    "    \n",
    "    output = f\"{{\\\"Block_Name\\\": \\\"Container\\\", \\\"Container_ID\\\": {container_id}, \\\"Paragraph_List\\\":{paragraphs}}}\"\n",
    "    whole_prompt = f\"<s> [INST] <<SYS>> Generate ZOLO block code required for the user input. Strictly follow the output format. Start output with ++ and end with ++ <<\\SYS>>User input: {prompt} [/INST] ++Output = {output}++ </s> \\n\"\n",
    "    container_1_prompts.append(whole_prompt)\n",
    "    \n",
    "container_1_prompts[0]    "
   ]
  },
  {
   "cell_type": "markdown",
   "id": "9a1b7fa7-b7d6-40ac-ab15-5a485c3de2a0",
   "metadata": {},
   "source": [
    "# Container 2"
   ]
  },
  {
   "cell_type": "code",
   "execution_count": 28,
   "id": "2d9df128-d312-4655-befe-6d4f5faf5f72",
   "metadata": {},
   "outputs": [
    {
     "name": "stdout",
     "output_type": "stream",
     "text": [
      "['Input_Prompt' 'Paragraph_list']\n",
      "prompt_list length = 51\n",
      "title_list length = 15\n"
     ]
    },
    {
     "data": {
      "text/plain": [
       "'<s> [INST] <<SYS>> Generate ZOLO block code required for the user input. Strictly follow the output format. Start output with ++ and end with ++ <<\\\\SYS>>User input: Examine the impact of smartphone integration with AI and 5G technology. [/INST] ++Output = {\"Block_Name\": \"Container\", \"Container_ID\": 2, \"Paragraph_List\":[\\'Technological advancements continuously drive smartphone innovation, pushing boundaries and expanding possibilities.\\', \"Summarizing mobile technology\\'s essential functions and capabilities, it empowers individuals in various aspects of life.\", \\'Technological advancements continuously drive smartphone innovation, pushing boundaries and expanding possibilities.\\']}++ </s> \\n'"
      ]
     },
     "execution_count": 28,
     "metadata": {},
     "output_type": "execute_result"
    }
   ],
   "source": [
    "container_2_info = pd.read_csv(r\"container_2.csv\")\n",
    "print(container_2_info.columns.values)\n",
    "\n",
    "container_id = 2\n",
    "paragraph_count = 3\n",
    "\n",
    "prompt_list = ast.literal_eval(container_2_info['Input_Prompt'].values[0])\n",
    "paragraph_list = ast.literal_eval(container_0_info['Paragraph_list'].values[0])\n",
    "\n",
    "print(f\"prompt_list length = {len(prompt_list)}\")\n",
    "print(f\"title_list length = {len(paragraph_list)}\")\n",
    "\n",
    "# Output style\n",
    "# {\"Block_Name\": \"Name\", \"Container_ID\": ID, \"Paragraph_List\":[List of paragraph]}\n",
    "\n",
    "# Whole Prompt style\n",
    "# <s> [INST] <<SYS>> Generate ZOLO block code required for the user input. Strictly follow the output format. \n",
    "# Start output with ++ and end with ++ <<\\SYS>>User input: {promt} [/INST] ++Output = {Output}++ </s> \\n\n",
    "\n",
    "length = 150\n",
    "\n",
    "container_2_prompts = []\n",
    "\n",
    "for indx in range(length):\n",
    "    # Select prompt\n",
    "    try:\n",
    "        prompt = prompt_list[indx]\n",
    "    except:\n",
    "        prompt = random.choice(prompt_list)\n",
    "        \n",
    "    # Select Titles\n",
    "    paragraphs = [random.choice(paragraph_list) for _ in range(paragraph_count)]\n",
    "    \n",
    "    output = f\"{{\\\"Block_Name\\\": \\\"Container\\\", \\\"Container_ID\\\": {container_id}, \\\"Paragraph_List\\\":{paragraphs}}}\"\n",
    "    whole_prompt = f\"<s> [INST] <<SYS>> Generate ZOLO block code required for the user input. Strictly follow the output format. Start output with ++ and end with ++ <<\\SYS>>User input: {prompt} [/INST] ++Output = {output}++ </s> \\n\"\n",
    "    \n",
    "    container_2_prompts.append(whole_prompt)\n",
    "    \n",
    "container_2_prompts[0]    "
   ]
  },
  {
   "cell_type": "markdown",
   "id": "2aed674e-81e3-4566-965d-47a6d2121f8e",
   "metadata": {},
   "source": [
    "# Container 3"
   ]
  },
  {
   "cell_type": "code",
   "execution_count": 29,
   "id": "d46a314d-0eba-4fea-8cca-8ec7ca6a6d4a",
   "metadata": {},
   "outputs": [
    {
     "name": "stdout",
     "output_type": "stream",
     "text": [
      "['Input_Prompt' 'Paragraph_list']\n",
      "prompt_list length = 48\n",
      "title_list length = 15\n"
     ]
    },
    {
     "data": {
      "text/plain": [
       "'<s> [INST] <<SYS>> Generate ZOLO block code required for the user input. Strictly follow the output format. Start output with ++ and end with ++ <<\\\\SYS>>User input: Discuss about smartphone, AI, ML and 5G. [/INST] ++Output = {\"Block_Name\": \"Container\", \"Container_ID\": 3, \"Paragraph_List\":[\\'The implications of 5G deployment for various industries are summarized briefly, highlighting transformative potentials.\\', \\'Smartphones wield immense influence on social behavior and interpersonal relationships, altering how we engage and communicate.\\', \"Summarizing mobile technology\\'s essential functions and capabilities, it empowers individuals in various aspects of life.\", \\'Smartphones play a pivotal role in shaping digital culture, influencing trends and behaviors across various domains.\\']}++ </s> \\n'"
      ]
     },
     "execution_count": 29,
     "metadata": {},
     "output_type": "execute_result"
    }
   ],
   "source": [
    "container_3_info = pd.read_csv(r\"container_3.csv\")\n",
    "print(container_3_info.columns.values)\n",
    "\n",
    "container_id = 3\n",
    "paragraph_count = 4\n",
    "\n",
    "prompt_list = ast.literal_eval(container_3_info['Input_Prompt'].values[0])\n",
    "\n",
    "print(f\"prompt_list length = {len(prompt_list)}\")\n",
    "print(f\"title_list length = {len(paragraph_list)}\")\n",
    "\n",
    "# Output style\n",
    "# {\"Block_Name\": \"Name\", \"Container_ID\": ID, \"Paragraph_List\":[List of paragraph]}\n",
    "\n",
    "# Whole Prompt style\n",
    "# <s> [INST] <<SYS>> Generate ZOLO block code required for the user input. Strictly follow the output format. \n",
    "# Start output with ++ and end with ++ <<\\SYS>>User input: {promt} [/INST] ++Output = {Output}++ </s> \\n\n",
    "\n",
    "length = 150\n",
    "\n",
    "container_3_prompts = []\n",
    "\n",
    "for indx in range(length):\n",
    "    # Select prompt\n",
    "    try:\n",
    "        prompt = prompt_list[indx]\n",
    "    except:\n",
    "        prompt = random.choice(prompt_list)\n",
    "        \n",
    "    # Select Titles\n",
    "    paragraphs = [random.choice(paragraph_list) for _ in range(paragraph_count)]\n",
    "    \n",
    "    output = f\"{{\\\"Block_Name\\\": \\\"Container\\\", \\\"Container_ID\\\": {container_id}, \\\"Paragraph_List\\\":{paragraphs}}}\"\n",
    "    whole_prompt = f\"<s> [INST] <<SYS>> Generate ZOLO block code required for the user input. Strictly follow the output format. Start output with ++ and end with ++ <<\\SYS>>User input: {prompt} [/INST] ++Output = {output}++ </s> \\n\"\n",
    "    \n",
    "    container_3_prompts.append(whole_prompt)\n",
    "    \n",
    "container_3_prompts[0]    "
   ]
  },
  {
   "cell_type": "markdown",
   "id": "3637b9fc-b21b-4f4f-b2ce-64129fdb20ff",
   "metadata": {},
   "source": [
    "# Container 4"
   ]
  },
  {
   "cell_type": "code",
   "execution_count": 30,
   "id": "86bf7336-b23d-4992-90cc-3635c934b66f",
   "metadata": {},
   "outputs": [
    {
     "name": "stdout",
     "output_type": "stream",
     "text": [
      "['Input_Prompt' 'Paragraph_list']\n",
      "prompt_list length = 52\n",
      "title_list length = 15\n"
     ]
    },
    {
     "data": {
      "text/plain": [
       "'<s> [INST] <<SYS>> Generate ZOLO block code required for the user input. Strictly follow the output format. Start output with ++ and end with ++ <<\\\\SYS>>User input: Talk about electric cars and renewable energy sources. [/INST] ++Output = {\"Block_Name\": \"Container\", \"Container_ID\": 4, \"Paragraph_List\":[\\'A concise paragraph highlights the evolution of mobile technology, illustrating its profound impact on societal dynamics.\\', \\'5G networks condense the significance of revolutionizing communication infrastructure, heralding a new era of connectivity.\\']}++ </s> \\n'"
      ]
     },
     "execution_count": 30,
     "metadata": {},
     "output_type": "execute_result"
    }
   ],
   "source": [
    "container_4_info = pd.read_csv(r\"container_4.csv\")\n",
    "print(container_4_info.columns.values)\n",
    "\n",
    "container_id = 4\n",
    "paragraph_count = 2\n",
    "\n",
    "prompt_list = ast.literal_eval(container_4_info['Input_Prompt'].values[0])\n",
    "\n",
    "print(f\"prompt_list length = {len(prompt_list)}\")\n",
    "print(f\"title_list length = {len(paragraph_list)}\")\n",
    "\n",
    "# Output style\n",
    "# {\"Block_Name\": \"Name\", \"Container_ID\": ID, \"Paragraph_List\":[List of paragraph]}\n",
    "\n",
    "# Whole Prompt style\n",
    "# <s> [INST] <<SYS>> Generate ZOLO block code required for the user input. Strictly follow the output format. \n",
    "# Start output with ++ and end with ++ <<\\SYS>>User input: {promt} [/INST] ++Output = {Output}++ </s> \\n\n",
    "\n",
    "length = 150\n",
    "\n",
    "container_4_prompts = []\n",
    "\n",
    "for indx in range(length):\n",
    "    # Select prompt\n",
    "    try:\n",
    "        prompt = prompt_list[indx]\n",
    "    except:\n",
    "        prompt = random.choice(prompt_list)\n",
    "        \n",
    "    # Select Titles\n",
    "    paragraphs = [random.choice(paragraph_list) for _ in range(paragraph_count)]\n",
    "    \n",
    "    output = f\"{{\\\"Block_Name\\\": \\\"Container\\\", \\\"Container_ID\\\": {container_id}, \\\"Paragraph_List\\\":{paragraphs}}}\"\n",
    "    whole_prompt = f\"<s> [INST] <<SYS>> Generate ZOLO block code required for the user input. Strictly follow the output format. Start output with ++ and end with ++ <<\\SYS>>User input: {prompt} [/INST] ++Output = {output}++ </s> \\n\"\n",
    "    \n",
    "    container_4_prompts.append(whole_prompt)\n",
    "    \n",
    "container_4_prompts[0]    "
   ]
  },
  {
   "cell_type": "markdown",
   "id": "d26d709c-6cfe-4220-9b37-635d75683360",
   "metadata": {},
   "source": [
    "# Container 5"
   ]
  },
  {
   "cell_type": "code",
   "execution_count": 31,
   "id": "5bac27d8-dcf5-4da3-b7ed-1e76007cab24",
   "metadata": {},
   "outputs": [
    {
     "name": "stdout",
     "output_type": "stream",
     "text": [
      "['Input_Prompt' 'Paragraph_list']\n",
      "prompt_list length = 52\n",
      "title_list length = 15\n"
     ]
    },
    {
     "data": {
      "text/plain": [
       "'<s> [INST] <<SYS>> Generate ZOLO block code required for the user input. Strictly follow the output format. Start output with ++ and end with ++ <<\\\\SYS>>User input: Talk about electric cars and renewable energy sources. [/INST] ++Output = {\"Block_Name\": \"Container\", \"Container_ID\": 5, \"Paragraph_List\":[\\'Over the past decade, smartphones have undergone a remarkable evolution, shaping our digital landscape.\\', \"Summarizing mobile technology\\'s essential functions and capabilities, it empowers individuals in various aspects of life.\"]}++ </s> \\n'"
      ]
     },
     "execution_count": 31,
     "metadata": {},
     "output_type": "execute_result"
    }
   ],
   "source": [
    "container_5_info = pd.read_csv(r\"container_5.csv\")\n",
    "print(container_5_info.columns.values)\n",
    "\n",
    "container_id = 5\n",
    "paragraph_count = 2\n",
    "\n",
    "prompt_list = ast.literal_eval(container_5_info['Input_Prompt'].values[0])\n",
    "\n",
    "print(f\"prompt_list length = {len(prompt_list)}\")\n",
    "print(f\"title_list length = {len(paragraph_list)}\")\n",
    "\n",
    "# Output style\n",
    "# {\"Block_Name\": \"Name\", \"Container_ID\": ID, \"Paragraph_List\":[List of paragraph]}\n",
    "\n",
    "# Whole Prompt style\n",
    "# <s> [INST] <<SYS>> Generate ZOLO block code required for the user input. Strictly follow the output format. \n",
    "# Start output with ++ and end with ++ <<\\SYS>>User input: {promt} [/INST] ++Output = {Output}++ </s> \\n\n",
    "\n",
    "length = 150\n",
    "\n",
    "container_5_prompts = []\n",
    "\n",
    "for indx in range(length):\n",
    "    # Select prompt\n",
    "    try:\n",
    "        prompt = prompt_list[indx]\n",
    "    except:\n",
    "        prompt = random.choice(prompt_list)\n",
    "        \n",
    "    # Select Titles\n",
    "    paragraphs = [random.choice(paragraph_list) for _ in range(paragraph_count)]\n",
    "    \n",
    "    output = f\"{{\\\"Block_Name\\\": \\\"Container\\\", \\\"Container_ID\\\": {container_id}, \\\"Paragraph_List\\\":{paragraphs}}}\"\n",
    "    whole_prompt = f\"<s> [INST] <<SYS>> Generate ZOLO block code required for the user input. Strictly follow the output format. Start output with ++ and end with ++ <<\\SYS>>User input: {prompt} [/INST] ++Output = {output}++ </s> \\n\"\n",
    "    \n",
    "    container_5_prompts.append(whole_prompt)\n",
    "    \n",
    "container_5_prompts[0]    "
   ]
  },
  {
   "cell_type": "markdown",
   "id": "8bf88e20-e066-4b99-98f8-9c4278676e1e",
   "metadata": {},
   "source": [
    "# Container 6"
   ]
  },
  {
   "cell_type": "code",
   "execution_count": 32,
   "id": "22c17894-c4eb-4390-aa24-711faa2fffbb",
   "metadata": {},
   "outputs": [
    {
     "name": "stdout",
     "output_type": "stream",
     "text": [
      "['Input_Prompt' 'Paragraph_list']\n",
      "prompt_list length = 48\n",
      "title_list length = 15\n"
     ]
    },
    {
     "data": {
      "text/plain": [
       "'<s> [INST] <<SYS>> Generate ZOLO block code required for the user input. Strictly follow the output format. Start output with ++ and end with ++ <<\\\\SYS>>User input: Discuss about smartphone, AI, ML and 5G. [/INST] ++Output = {\"Block_Name\": \"Container\", \"Container_ID\": 6, \"Paragraph_List\":[\\'In modern life, mobile devices offer unparalleled convenience and utility, seamlessly integrating into daily routines.\\', \\'Smartphones play a pivotal role in shaping digital culture, influencing trends and behaviors across various domains.\\', \\'5G networks condense the significance of revolutionizing communication infrastructure, heralding a new era of connectivity.\\', \\'Over the past decade, smartphones have undergone a remarkable evolution, shaping our digital landscape.\\']}++ </s> \\n'"
      ]
     },
     "execution_count": 32,
     "metadata": {},
     "output_type": "execute_result"
    }
   ],
   "source": [
    "container_6_info = pd.read_csv(r\"container_6.csv\")\n",
    "print(container_6_info.columns.values)\n",
    "\n",
    "container_id = 6\n",
    "paragraph_count = 4\n",
    "\n",
    "prompt_list = ast.literal_eval(container_6_info['Input_Prompt'].values[0])\n",
    "\n",
    "print(f\"prompt_list length = {len(prompt_list)}\")\n",
    "print(f\"title_list length = {len(paragraph_list)}\")\n",
    "\n",
    "# Output style\n",
    "# {\"Block_Name\": \"Name\", \"Container_ID\": ID, \"Paragraph_List\":[List of paragraph]}\n",
    "\n",
    "# Whole Prompt style\n",
    "# <s> [INST] <<SYS>> Generate ZOLO block code required for the user input. Strictly follow the output format. \n",
    "# Start output with ++ and end with ++ <<\\SYS>>User input: {promt} [/INST] ++Output = {Output}++ </s> \\n\n",
    "\n",
    "length = 150\n",
    "\n",
    "container_6_prompts = []\n",
    "\n",
    "for indx in range(length):\n",
    "    # Select prompt\n",
    "    try:\n",
    "        prompt = prompt_list[indx]\n",
    "    except:\n",
    "        prompt = random.choice(prompt_list)\n",
    "        \n",
    "    # Select Titles\n",
    "    paragraphs = [random.choice(paragraph_list) for _ in range(paragraph_count)]\n",
    "    \n",
    "    output = f\"{{\\\"Block_Name\\\": \\\"Container\\\", \\\"Container_ID\\\": {container_id}, \\\"Paragraph_List\\\":{paragraphs}}}\"\n",
    "    whole_prompt = f\"<s> [INST] <<SYS>> Generate ZOLO block code required for the user input. Strictly follow the output format. Start output with ++ and end with ++ <<\\SYS>>User input: {prompt} [/INST] ++Output = {output}++ </s> \\n\"\n",
    "    \n",
    "    container_6_prompts.append(whole_prompt)\n",
    "    \n",
    "container_6_prompts[0]    "
   ]
  },
  {
   "cell_type": "markdown",
   "id": "28cd9347-f62c-4354-bb0f-cb085ebaebd4",
   "metadata": {},
   "source": [
    "# Container 7"
   ]
  },
  {
   "cell_type": "code",
   "execution_count": 19,
   "id": "6858c066-600a-478f-af33-ed9b3c8d77dc",
   "metadata": {},
   "outputs": [
    {
     "name": "stdout",
     "output_type": "stream",
     "text": [
      "['Input_Prompt' 'Paragraph_list']\n",
      "prompt_list length = 54\n",
      "title_list length = 15\n"
     ]
    },
    {
     "data": {
      "text/plain": [
       "'<s> [INST] <<SYS>> Generate ZOLO block code required for the user input. Strictly follow the output format. Start output with ++ and end with ++ <<\\\\SYS>>User input: Discuss the impact of smartphones on society, alongside developments in AI, ML, cyber attacks, viruses, and 5G technology. [/INST] ++Output = {\"Block_Name\": \"Container\", \"Container_ID\": 7, \"Paragraph_List\":[\\'Smartphones play a pivotal role in shaping digital culture, influencing trends and behaviors across various domains.\\', \\'Smartphones play a pivotal role in shaping digital culture, influencing trends and behaviors across various domains.\\', \\'Within a concise container, 5G technology offers a high-speed, low-latency connectivity revolution.\\', \"Summarizing mobile technology\\'s essential functions and capabilities, it empowers individuals in various aspects of life.\", \\'Technological advancements continuously drive smartphone innovation, pushing boundaries and expanding possibilities.\\', \\'In modern life, mobile devices offer unparalleled convenience and utility, seamlessly integrating into daily routines.\\']}++ </s> \\n'"
      ]
     },
     "execution_count": 19,
     "metadata": {},
     "output_type": "execute_result"
    }
   ],
   "source": [
    "container_7_info = pd.read_csv(r\"container_7.csv\")\n",
    "print(container_7_info.columns.values)\n",
    "\n",
    "container_id = 7\n",
    "paragraph_count = 6\n",
    "\n",
    "prompt_list = ast.literal_eval(container_7_info['Input_Prompt'].values[0])\n",
    "\n",
    "print(f\"prompt_list length = {len(prompt_list)}\")\n",
    "print(f\"title_list length = {len(paragraph_list)}\")\n",
    "\n",
    "# Output style\n",
    "# {\"Block_Name\": \"Name\", \"Container_ID\": ID, \"Paragraph_List\":[List of paragraph]}\n",
    "\n",
    "# Whole Prompt style\n",
    "# <s> [INST] <<SYS>> Generate ZOLO block code required for the user input. Strictly follow the output format. \n",
    "# Start output with ++ and end with ++ <<\\SYS>>User input: {promt} [/INST] ++Output = {Output}++ </s> \\n\n",
    "\n",
    "length = 150\n",
    "\n",
    "container_7_prompts = []\n",
    "\n",
    "for indx in range(length):\n",
    "    # Select prompt\n",
    "    try:\n",
    "        prompt = prompt_list[indx]\n",
    "    except:\n",
    "        prompt = random.choice(prompt_list)\n",
    "        \n",
    "    # Select Titles\n",
    "    paragraphs = [random.choice(paragraph_list) for _ in range(paragraph_count)]\n",
    "    \n",
    "    output = f\"{{\\\"Block_Name\\\": \\\"Container\\\", \\\"Container_ID\\\": {container_id}, \\\"Paragraph_List\\\":{paragraphs}}}\"\n",
    "    whole_prompt = f\"<s> [INST] <<SYS>> Generate ZOLO block code required for the user input. Strictly follow the output format. Start output with ++ and end with ++ <<\\SYS>>User input: {prompt} [/INST] ++Output = {output}++ </s> \\n\"\n",
    "    \n",
    "    container_7_prompts.append(whole_prompt)\n",
    "    \n",
    "container_7_prompts[0]    "
   ]
  },
  {
   "cell_type": "markdown",
   "id": "b896775a-6711-437d-933b-286425dd0e1f",
   "metadata": {},
   "source": [
    "# Container 8"
   ]
  },
  {
   "cell_type": "code",
   "execution_count": 21,
   "id": "caee5b20-8df4-4013-8072-66d74661fe75",
   "metadata": {},
   "outputs": [
    {
     "name": "stdout",
     "output_type": "stream",
     "text": [
      "['Input_Prompt' 'Paragraph_list']\n",
      "prompt_list length = 51\n",
      "title_list length = 15\n"
     ]
    },
    {
     "data": {
      "text/plain": [
       "'<s> [INST] <<SYS>> Generate ZOLO block code required for the user input. Strictly follow the output format. Start output with ++ and end with ++ <<\\\\SYS>>User input: Examine the impact of smartphone integration with AI and 5G technology. [/INST] ++Output = {\"Block_Name\": \"Container\", \"Container_ID\": 8, \"Paragraph_List\":[\"Mobile phones\\' ubiquity and indispensable role in daily activities underscore their pervasive presence in society.\", \\'Smartphones play a pivotal role in shaping digital culture, influencing trends and behaviors across various domains.\\', \\'Technological advancements continuously drive smartphone innovation, pushing boundaries and expanding possibilities.\\']}++ </s> \\n'"
      ]
     },
     "execution_count": 21,
     "metadata": {},
     "output_type": "execute_result"
    }
   ],
   "source": [
    "container_8_info = pd.read_csv(r\"container_8.csv\")\n",
    "print(container_8_info.columns.values)\n",
    "\n",
    "container_id = 8\n",
    "paragraph_count = 3\n",
    "\n",
    "prompt_list = ast.literal_eval(container_8_info['Input_Prompt'].values[0])\n",
    "\n",
    "print(f\"prompt_list length = {len(prompt_list)}\")\n",
    "print(f\"title_list length = {len(paragraph_list)}\")\n",
    "\n",
    "# Output style\n",
    "# {\"Block_Name\": \"Name\", \"Container_ID\": ID, \"Paragraph_List\":[List of paragraph]}\n",
    "\n",
    "# Whole Prompt style\n",
    "# <s> [INST] <<SYS>> Generate ZOLO block code required for the user input. Strictly follow the output format. \n",
    "# Start output with ++ and end with ++ <<\\SYS>>User input: {promt} [/INST] ++Output = {Output}++ </s> \\n\n",
    "\n",
    "length = 150\n",
    "\n",
    "container_8_prompts = []\n",
    "\n",
    "for indx in range(length):\n",
    "    # Select prompt\n",
    "    try:\n",
    "        prompt = prompt_list[indx]\n",
    "    except:\n",
    "        prompt = random.choice(prompt_list)\n",
    "        \n",
    "    # Select Titles\n",
    "    paragraphs = [random.choice(paragraph_list) for _ in range(paragraph_count)]\n",
    "    \n",
    "    output = f\"{{\\\"Block_Name\\\": \\\"Container\\\", \\\"Container_ID\\\": {container_id}, \\\"Paragraph_List\\\":{paragraphs}}}\"\n",
    "    whole_prompt = f\"<s> [INST] <<SYS>> Generate ZOLO block code required for the user input. Strictly follow the output format. Start output with ++ and end with ++ <<\\SYS>>User input: {prompt} [/INST] ++Output = {output}++ </s> \\n\"\n",
    "    \n",
    "    container_8_prompts.append(whole_prompt)\n",
    "    \n",
    "container_8_prompts[0]    "
   ]
  },
  {
   "cell_type": "markdown",
   "id": "0ee38ae6-56ea-43c9-af96-2ef3b7c6c58b",
   "metadata": {},
   "source": [
    "# Container 9"
   ]
  },
  {
   "cell_type": "code",
   "execution_count": 22,
   "id": "c0b8d94b-5223-4a7d-a950-0122ea162744",
   "metadata": {},
   "outputs": [
    {
     "name": "stdout",
     "output_type": "stream",
     "text": [
      "['Input_Prompt' 'Paragraph_list']\n",
      "prompt_list length = 48\n",
      "title_list length = 15\n"
     ]
    },
    {
     "data": {
      "text/plain": [
       "'<s> [INST] <<SYS>> Generate ZOLO block code required for the user input. Strictly follow the output format. Start output with ++ and end with ++ <<\\\\SYS>>User input: Discuss about smartphone, AI, ML and 5G. [/INST] ++Output = {\"Block_Name\": \"Container\", \"Container_ID\": 9, \"Paragraph_List\":[\\'Modern communication has been significantly impacted by smartphones, revolutionizing how we connect and interact.\\', \"Within a container, capture the essence of 5G\\'s potential to transform connectivity, offering seamless and ubiquitous access.\", \"Mobile phones\\' ubiquity and indispensable role in daily activities underscore their pervasive presence in society.\", \"Summarizing mobile technology\\'s essential functions and capabilities, it empowers individuals in various aspects of life.\"]}++ </s> \\n'"
      ]
     },
     "execution_count": 22,
     "metadata": {},
     "output_type": "execute_result"
    }
   ],
   "source": [
    "container_9_info = pd.read_csv(r\"container_9.csv\")\n",
    "print(container_9_info.columns.values)\n",
    "\n",
    "container_id = 9\n",
    "paragraph_count = 4\n",
    "\n",
    "prompt_list = ast.literal_eval(container_9_info['Input_Prompt'].values[0])\n",
    "\n",
    "print(f\"prompt_list length = {len(prompt_list)}\")\n",
    "print(f\"title_list length = {len(paragraph_list)}\")\n",
    "\n",
    "# Output style\n",
    "# {\"Block_Name\": \"Name\", \"Container_ID\": ID, \"Paragraph_List\":[List of paragraph]}\n",
    "\n",
    "# Whole Prompt style\n",
    "# <s> [INST] <<SYS>> Generate ZOLO block code required for the user input. Strictly follow the output format. \n",
    "# Start output with ++ and end with ++ <<\\SYS>>User input: {promt} [/INST] ++Output = {Output}++ </s> \\n\n",
    "\n",
    "length = 150\n",
    "\n",
    "container_9_prompts = []\n",
    "\n",
    "for indx in range(length):\n",
    "    # Select prompt\n",
    "    try:\n",
    "        prompt = prompt_list[indx]\n",
    "    except:\n",
    "        prompt = random.choice(prompt_list)\n",
    "        \n",
    "    # Select Titles\n",
    "    paragraphs = [random.choice(paragraph_list) for _ in range(paragraph_count)]\n",
    "    \n",
    "    output = f\"{{\\\"Block_Name\\\": \\\"Container\\\", \\\"Container_ID\\\": {container_id}, \\\"Paragraph_List\\\":{paragraphs}}}\"\n",
    "    whole_prompt = f\"<s> [INST] <<SYS>> Generate ZOLO block code required for the user input. Strictly follow the output format. Start output with ++ and end with ++ <<\\SYS>>User input: {prompt} [/INST] ++Output = {output}++ </s> \\n\"\n",
    "    \n",
    "    container_9_prompts.append(whole_prompt)\n",
    "    \n",
    "container_9_prompts[0]    "
   ]
  },
  {
   "cell_type": "markdown",
   "id": "9baae19d-5e6d-44e5-bf05-26f6be93b419",
   "metadata": {},
   "source": [
    "# Container 10"
   ]
  },
  {
   "cell_type": "code",
   "execution_count": 23,
   "id": "34d7ee76-cb20-4301-a983-1830a894933d",
   "metadata": {},
   "outputs": [
    {
     "name": "stdout",
     "output_type": "stream",
     "text": [
      "['Input_Prompt' 'Paragraph_list']\n",
      "prompt_list length = 48\n",
      "title_list length = 15\n"
     ]
    },
    {
     "data": {
      "text/plain": [
       "'<s> [INST] <<SYS>> Generate ZOLO block code required for the user input. Strictly follow the output format. Start output with ++ and end with ++ <<\\\\SYS>>User input: Discuss about smartphone, AI, ML and 5G. [/INST] ++Output = {\"Block_Name\": \"Container\", \"Container_ID\": 10, \"Paragraph_List\":[\\'5G networks condense the significance of revolutionizing communication infrastructure, heralding a new era of connectivity.\\', \\'Within a concise container, 5G technology offers a high-speed, low-latency connectivity revolution.\\', \\'Over the past decade, smartphones have undergone a remarkable evolution, shaping our digital landscape.\\', \"Mobile phones\\' ubiquity and indispensable role in daily activities underscore their pervasive presence in society.\"]}++ </s> \\n'"
      ]
     },
     "execution_count": 23,
     "metadata": {},
     "output_type": "execute_result"
    }
   ],
   "source": [
    "container_10_info = pd.read_csv(r\"container_10.csv\")\n",
    "print(container_10_info.columns.values)\n",
    "\n",
    "container_id = 10\n",
    "paragraph_count = 4\n",
    "\n",
    "prompt_list = ast.literal_eval(container_10_info['Input_Prompt'].values[0])\n",
    "\n",
    "print(f\"prompt_list length = {len(prompt_list)}\")\n",
    "print(f\"title_list length = {len(paragraph_list)}\")\n",
    "\n",
    "# Output style\n",
    "# {\"Block_Name\": \"Name\", \"Container_ID\": ID, \"Paragraph_List\":[List of paragraph]}\n",
    "\n",
    "# Whole Prompt style\n",
    "# <s> [INST] <<SYS>> Generate ZOLO block code required for the user input. Strictly follow the output format. \n",
    "# Start output with ++ and end with ++ <<\\SYS>>User input: {promt} [/INST] ++Output = {Output}++ </s> \\n\n",
    "\n",
    "length = 150\n",
    "\n",
    "container_10_prompts = []\n",
    "\n",
    "for indx in range(length):\n",
    "    # Select prompt\n",
    "    try:\n",
    "        prompt = prompt_list[indx]\n",
    "    except:\n",
    "        prompt = random.choice(prompt_list)\n",
    "        \n",
    "    # Select Titles\n",
    "    paragraphs = [random.choice(paragraph_list) for _ in range(paragraph_count)]\n",
    "    \n",
    "    output = f\"{{\\\"Block_Name\\\": \\\"Container\\\", \\\"Container_ID\\\": {container_id}, \\\"Paragraph_List\\\":{paragraphs}}}\"\n",
    "    whole_prompt = f\"<s> [INST] <<SYS>> Generate ZOLO block code required for the user input. Strictly follow the output format. Start output with ++ and end with ++ <<\\SYS>>User input: {prompt} [/INST] ++Output = {output}++ </s> \\n\"\n",
    "    \n",
    "    container_10_prompts.append(whole_prompt)\n",
    "    \n",
    "container_10_prompts[0]    "
   ]
  },
  {
   "cell_type": "markdown",
   "id": "044f0a94-70d2-4b1d-968e-25108dacc4cb",
   "metadata": {},
   "source": [
    "# Container 11"
   ]
  },
  {
   "cell_type": "code",
   "execution_count": 25,
   "id": "c8bfb66d-5018-44ca-aea3-67c51bf717d4",
   "metadata": {},
   "outputs": [
    {
     "name": "stdout",
     "output_type": "stream",
     "text": [
      "['Input_Prompt' 'Paragraph_list']\n",
      "prompt_list length = 51\n",
      "title_list length = 15\n"
     ]
    },
    {
     "data": {
      "text/plain": [
       "'<s> [INST] <<SYS>> Generate ZOLO block code required for the user input. Strictly follow the output format. Start output with ++ and end with ++ <<\\\\SYS>>User input: Examine the impact of smartphone integration with AI and 5G technology. [/INST] ++Output = {\"Block_Name\": \"Container\", \"Container_ID\": 11, \"Paragraph_List\":[\\'A concise paragraph highlights the evolution of mobile technology, illustrating its profound impact on societal dynamics.\\', \\'In modern life, mobile devices offer unparalleled convenience and utility, seamlessly integrating into daily routines.\\', \"Mobile phones\\' ubiquity and indispensable role in daily activities underscore their pervasive presence in society.\"]}++ </s> \\n'"
      ]
     },
     "execution_count": 25,
     "metadata": {},
     "output_type": "execute_result"
    }
   ],
   "source": [
    "container_11_info = pd.read_csv(r\"container_11.csv\")\n",
    "print(container_11_info.columns.values)\n",
    "\n",
    "container_id = 11\n",
    "paragraph_count = 3\n",
    "\n",
    "prompt_list = ast.literal_eval(container_11_info['Input_Prompt'].values[0])\n",
    "\n",
    "print(f\"prompt_list length = {len(prompt_list)}\")\n",
    "print(f\"title_list length = {len(paragraph_list)}\")\n",
    "\n",
    "# Output style\n",
    "# {\"Block_Name\": \"Name\", \"Container_ID\": ID, \"Paragraph_List\":[List of paragraph]}\n",
    "\n",
    "# Whole Prompt style\n",
    "# <s> [INST] <<SYS>> Generate ZOLO block code required for the user input. Strictly follow the output format. \n",
    "# Start output with ++ and end with ++ <<\\SYS>>User input: {promt} [/INST] ++Output = {Output}++ </s> \\n\n",
    "\n",
    "length = 150\n",
    "\n",
    "container_11_prompts = []\n",
    "\n",
    "for indx in range(length):\n",
    "    # Select prompt\n",
    "    try:\n",
    "        prompt = prompt_list[indx]\n",
    "    except:\n",
    "        prompt = random.choice(prompt_list)\n",
    "        \n",
    "    # Select Titles\n",
    "    paragraphs = [random.choice(paragraph_list) for _ in range(paragraph_count)]\n",
    "    \n",
    "    output = f\"{{\\\"Block_Name\\\": \\\"Container\\\", \\\"Container_ID\\\": {container_id}, \\\"Paragraph_List\\\":{paragraphs}}}\"\n",
    "    whole_prompt = f\"<s> [INST] <<SYS>> Generate ZOLO block code required for the user input. Strictly follow the output format. Start output with ++ and end with ++ <<\\SYS>>User input: {prompt} [/INST] ++Output = {output}++ </s> \\n\"\n",
    "    \n",
    "    container_11_prompts.append(whole_prompt)\n",
    "    \n",
    "container_11_prompts[0]    "
   ]
  }
 ],
 "metadata": {
  "kernelspec": {
   "display_name": "Python 3 (ipykernel)",
   "language": "python",
   "name": "python3"
  },
  "language_info": {
   "codemirror_mode": {
    "name": "ipython",
    "version": 3
   },
   "file_extension": ".py",
   "mimetype": "text/x-python",
   "name": "python",
   "nbconvert_exporter": "python",
   "pygments_lexer": "ipython3",
   "version": "3.10.4"
  }
 },
 "nbformat": 4,
 "nbformat_minor": 5
}
