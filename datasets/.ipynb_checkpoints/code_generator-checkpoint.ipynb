{
 "cells": [
  {
   "cell_type": "code",
   "execution_count": 1,
   "id": "9ebb2c94-ed8e-4147-a6c5-96fe180ed4d7",
   "metadata": {},
   "outputs": [],
   "source": [
    "import re\n",
    "from nanoid import generate\n",
    "import pandas as pd\n",
    "import random\n",
    "import json\n",
    "\n",
    "from zolo_blocks.accordion import Accordion\n",
    "from zolo_blocks.advance_button import Advance_Button\n",
    "from zolo_blocks.advance_heading import Advance_Heading\n",
    "from zolo_blocks.advance_image import Advance_Image\n",
    "from zolo_blocks.container import Container"
   ]
  },
  {
   "cell_type": "code",
   "execution_count": 2,
   "id": "b7fdd8cd-d03a-48e5-a2fb-2101f22039bb",
   "metadata": {},
   "outputs": [],
   "source": [
    "block_list = [Accordion, Advance_Button, Advance_Heading, Advance_Image, Container]\n",
    "block_name_list = [\"Accordion\", \"Advanced_Button\", \"Advanced_Heading\", \"Advanced_Image\", \"Container\"]"
   ]
  },
  {
   "cell_type": "code",
   "execution_count": 7,
   "id": "81dd3f42-8301-4f49-8033-fd96dbb390c5",
   "metadata": {},
   "outputs": [],
   "source": [
    "model_out =  {\"Block_Name\": \"Advanced_Image\", \"Image_Source\":\"Link\", \"IMAGE_LINK\":\"https://images.pexels.com/photos/130576/pexels-photo-130576.jpeg?cs=srgb&dl=pexels-pok-rie-33563-130576.jpg&fm=jpg\", \"Layout\":{\"HEADING\":\"Mountain Valley Peace: Secluded Serenity\", \"DESCRIPTION\":\"Let your imagination wander in the lush greenery of the rainforest.\"}}\n",
    "block_name = model_out[\"Block_Name\"]\n",
    "block_index = block_name_list.index(block_name)\n",
    "code_generator = block_list[block_index]\n",
    "\n",
    "code_out = code_generator(model_out)"
   ]
  },
  {
   "cell_type": "code",
   "execution_count": 8,
   "id": "0c97bcab-f45f-445d-859f-9cf491e5acba",
   "metadata": {},
   "outputs": [
    {
     "data": {
      "text/plain": [
       "'<!-- wp:zolo/advanced-image {\"photo\":{\"url\":\"https://images.pexels.com/photos/130576/pexels-photo-130576.jpeg?cs=srgb&dl=pexels-pok-rie-33563-130576.jpg&fm=jpg\"},\"layout\":\"overlay\",\"heading\":\"Mountain Valley Peace: Secluded Serenity\",\"description\":\"Let your imagination wander in the lush greenery of the rainforest.\",\"uniqueId\":\"advanced-image-9ki5iyn9\",\"parentClasses\":[\"zolo-block parent-advanced-image-9ki5iyn9\"],\"zoloStyles\":{\"desktop\":\".advanced-image-9ki5iyn9.wp-block-zolo-advanced-image .zolo-adi-overlay .zolo-content-wrap { justify-content:center; align-items:center; text-align:center }\"},\"selectedPanel\":\"description\"} --> <div class=\"wp-block-zolo-advanced-image advanced-image-9ki5iyn9 zolo-block parent-advanced-image-9ki5iyn9\" > <div class=\"zolo-image-block-wrap no-mask zolo-adi-overlay\"> <div class=\"zolo-image-block-inner\"> <div class=\"zolo-img-wrap\"> <img class=\"zolo-img\" src=\"https://images.pexels.com/photos/130576/pexels-photo-130576.jpeg?cs=srgb&dl=pexels-pok-rie-33563-130576.jpg&fm=jpg\" /> </div> <div class=\"zolo-content-wrap\"> <div class=\"zolo-inner-content\"> <h2 class=\"zolo-title always_visible\">Mountain Valley Peace: Secluded Serenity</h2> <p class=\"zolo-caption hover_visible\">Let your imagination wander in the lush greenery of the rainforest.</p> </div> </div> </div> </div> </div> <!-- /wp:zolo/advanced-image -->'"
      ]
     },
     "execution_count": 8,
     "metadata": {},
     "output_type": "execute_result"
    }
   ],
   "source": [
    "code_out.get_code()"
   ]
  }
 ],
 "metadata": {
  "kernelspec": {
   "display_name": "Python 3 (ipykernel)",
   "language": "python",
   "name": "python3"
  },
  "language_info": {
   "codemirror_mode": {
    "name": "ipython",
    "version": 3
   },
   "file_extension": ".py",
   "mimetype": "text/x-python",
   "name": "python",
   "nbconvert_exporter": "python",
   "pygments_lexer": "ipython3",
   "version": "3.10.4"
  }
 },
 "nbformat": 4,
 "nbformat_minor": 5
}
