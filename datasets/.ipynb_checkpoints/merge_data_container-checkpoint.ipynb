{
 "cells": [
  {
   "cell_type": "code",
   "execution_count": 2,
   "id": "9bef024b",
   "metadata": {},
   "outputs": [],
   "source": [
    "with open(\"data_single_container_id_0.txt\", \"r\", encoding=\"utf8\") as single_con:\n",
    "    single_con = single_con.read()\n",
    "    with open(\"data_two_column_id_1.txt\", \"r\", encoding=\"utf8\") as two_column:\n",
    "        two_column = two_column.read()\n",
    "        with open(\"data.txt\", \"w\", encoding=\"utf8\") as data:\n",
    "            data.write(single_con+two_column)"
   ]
  }
 ],
 "metadata": {
  "kernelspec": {
   "display_name": "Python 3 (ipykernel)",
   "language": "python",
   "name": "python3"
  },
  "language_info": {
   "codemirror_mode": {
    "name": "ipython",
    "version": 3
   },
   "file_extension": ".py",
   "mimetype": "text/x-python",
   "name": "python",
   "nbconvert_exporter": "python",
   "pygments_lexer": "ipython3",
   "version": "3.10.4"
  }
 },
 "nbformat": 4,
 "nbformat_minor": 5
}
