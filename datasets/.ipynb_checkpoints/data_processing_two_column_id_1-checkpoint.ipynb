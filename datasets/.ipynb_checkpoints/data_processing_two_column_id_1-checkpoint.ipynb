{
 "cells": [
  {
   "cell_type": "code",
   "execution_count": null,
   "metadata": {
    "id": "IlUbOQZLaVDq"
   },
   "outputs": [],
   "source": [
    "!pip install nanoid"
   ]
  },
  {
   "cell_type": "code",
   "execution_count": 35,
   "metadata": {
    "id": "T_M2XhqqaQee"
   },
   "outputs": [],
   "source": [
    "import re\n",
    "from nanoid import generate\n",
    "import random"
   ]
  },
  {
   "cell_type": "code",
   "execution_count": 1,
   "metadata": {
    "id": "uhHyVU4EJt4W"
   },
   "outputs": [],
   "source": [
    "class Container():\n",
    "  def __init__(self, html_code, parameters, promts_list, container_fill_list):\n",
    "    self.block_type = \"container\"\n",
    "    self.html_code = html_code\n",
    "    self.parameters = parameters # dictionary of parameters name with its max value or value list ex: {\"ContainerGapGap\":\"2000\", \"Position\":[\"top\", \"bottom\"]}\n",
    "    self.promts_list = promts_list\n",
    "    self.container_fill_list = container_fill_list\n",
    "\n",
    "  # function to generate unique IDs\n",
    "  def gen_uniqueId(self):\n",
    "    # generate unique ID\n",
    "    # identified by [UNIQUE_ID] in the code\n",
    "    block_type = self.block_type\n",
    "    unique_ID_char = generate(\"123456789abcdefghijklmnopqrstuvwxyz\",size=8) # 8 character long  only number and alphabet\n",
    "    unique_ID = f\"{block_type}-{unique_ID_char}\"\n",
    "    return unique_ID\n",
    "\n",
    "  def replace_params(self, string, replacements):\n",
    "    # Regular expression to match custom placeholders\n",
    "    pattern = r'\\[([^\\[\\]]*)\\]'\n",
    "    return re.sub(pattern, lambda match: replacements.get(match.group(1), match.group(0)), string)\n",
    "\n",
    "  def gen_replacements(self):\n",
    "    replacement_dict = {}\n",
    "\n",
    "    # genrate random values for the changable parameters\n",
    "    for parameter_name in self.parameters:\n",
    "      values = self.parameters[parameter_name]\n",
    "      if type(values).__name__ == \"str\":\n",
    "        max_value = int(values)\n",
    "        value = random.randint(0, max_value)\n",
    "        temp_dict = {parameter_name:str(value)}\n",
    "        replacement_dict.update(temp_dict)\n",
    "\n",
    "      else:\n",
    "        value = random.choice(values)\n",
    "        temp_dict = {parameter_name:value}\n",
    "        replacement_dict.update(temp_dict)\n",
    "\n",
    "    # generate unique id_1\n",
    "    unique_id = self.gen_uniqueId()\n",
    "    temp_dict = {\"UNIQUE_ID_1\":unique_id}\n",
    "    replacement_dict.update(temp_dict)\n",
    "    \n",
    "    # generate unique id_2\n",
    "    unique_id = self.gen_uniqueId()\n",
    "    temp_dict = {\"UNIQUE_ID_2\":unique_id}\n",
    "    replacement_dict.update(temp_dict)\n",
    "\n",
    "    # takes random promt and its generated description by chatgpt\n",
    "    promt = random.choice(self.promts_list)\n",
    "    promt_index = self.promts_list.index(promt)\n",
    "    container_fill = self.container_fill_list[promt_index]\n",
    "    temp_dict = {\"GENERATED_PARAGRAPH\":container_fill}\n",
    "    replacement_dict.update(temp_dict)\n",
    "\n",
    "    return replacement_dict, promt\n",
    "\n",
    "  def dataset(self, dataset_length):\n",
    "    code = []\n",
    "    promts = []\n",
    "    with open('data.txt', 'w') as data_file:\n",
    "      for _ in range(dataset_length):\n",
    "        replacement_dict, promt = self.gen_replacements()\n",
    "        gen_html = self.replace_params(self.html_code, replacement_dict)\n",
    "\n",
    "        # save to the text file\n",
    "        data = f\"<s> [INST] <<SYS>> Generate HTML code with CSS style in ZOLO format. <<\\SYS>> {promt} [/INST] {gen_html} </s> \\n\"\n",
    "        data_file.write(data)\n",
    "\n",
    "        promts.append(promt)\n",
    "        code.append(gen_html)\n",
    "\n",
    "    return code, promts"
   ]
  },
  {
   "cell_type": "code",
   "execution_count": 89,
   "metadata": {
    "id": "xNVZajOJypKS"
   },
   "outputs": [],
   "source": [
    "# debugging purpose\n",
    "# def replace_params(string, replacements):\n",
    "#     # Regular expression to match custom placeholders\n",
    "#     # pattern = r'\\[(.*?)\\]'\n",
    "#     pattern = r'\\[([^\\[\\]]*)\\]'\n",
    "#     return re.sub(pattern, lambda match: replacements.get(match.group(1), match.group(0)), string)\n",
    "\n",
    "# string = \"Hello, [name]! Your age is [asdf-[name]].\"\n",
    "# replacements = {\"name\": \"45\"}\n",
    "# formatted_string = replace_params(string, replacements)\n",
    "# print(formatted_string)"
   ]
  },
  {
   "cell_type": "code",
   "execution_count": 111,
   "metadata": {
    "id": "yjmYn4Juhu0f"
   },
   "outputs": [],
   "source": [
    "html_code = \"\"\"<!-- wp:zolo/container {\"variationStatus\":true,\"isBlockRootParent\":true,\"zolo_ContainerGapGap\":[ContainerGapGap],\"zolo_ContentWidthRange\":[ContentWidthRange],\"zolo_MinHeightRange\":[MinHeightRange],\"FlexDirectionZRPAlign\":\"column\",\"uniqueId\":\"[UNIQUE_ID]\",\"parentClasses\":[\"zolo-block parent-[UNIQUE_ID]\"],\"zoloStyles\":{\"desktop\":\".[UNIQUE_ID].block-editor-block-list__block.wp-block-zolo-container \\u003e .zolo-container-inner-blocks-wrap,.wp-block-zolo-container.zolo-root-container.alignfull.[UNIQUE_ID] \\u003e .zolo-container-inner-blocks-wrap { max-width:[ContentWidthRange]px }.is-root-container \\u003e .block-editor-block-list__block .block-editor-block-list__block#block-8a4130b5-1364-45b6-9dc4-53e1135edc81,.wp-block-zolo-container.zolo-root-container.frontend .[UNIQUE_ID] { max-width:100%; width:100% }.[UNIQUE_ID] { min-height:[MinHeightRange]px }.[UNIQUE_ID].wp-block-zolo-container \\u003e .zolo-container-inner-blocks-wrap \\u003e .block-editor-inner-blocks \\u003e .block-editor-block-list__layout,.[UNIQUE_ID].wp-block-zolo-container.zolo-root-container.alignfull \\u003e .zolo-container-inner-blocks-wrap { gap:[ContainerGapGap]px; flex-direction:column; flex-wrap:nowrap; justify-content:center; align-items:center }\",\"tab\":\".is-root-container \\u003e .block-editor-block-list__block .block-editor-block-list__block#block-8a4130b5-1364-45b6-9dc4-53e1135edc81,.wp-block-zolo-container.zolo-root-container.frontend .[UNIQUE_ID] { width:100% }\",\"mobile\":\".is-root-container \\u003e .block-editor-block-list__block .block-editor-block-list__block#block-8a4130b5-1364-45b6-9dc4-53e1135edc81,.wp-block-zolo-container.zolo-root-container.frontend .[UNIQUE_ID] { width:100% }\"},\"selectedTab\":\"style\"} --> <div class=\"wp-block-zolo-container [UNIQUE_ID] alignfull zolo-root-container frontend zolo-block parent-[UNIQUE_ID]\"><div class=\"zolo-container-inner-blocks-wrap\"><!-- wp:paragraph --> <p>[GENERATED_PARAGRAPH]</p> <!-- /wp:paragraph --></div></div> <!-- /wp:zolo/container -->\"\"\"\n",
    "parameters = {\"ContentWidthRange\": \"2000\", \"MinHeightRange\": \"1000\", \"ContainerGapGap\": \"200\"}\n",
    "\n",
    "promts_list = [\n",
    "    \"Craft a paragraph discussing Bangladesh.\",\n",
    "    \"Generate a passage on the subject of Bangladesh.\",\n",
    "    \"Create a written piece focusing on Bangladesh.\",\n",
    "    \"Develop a paragraph that explores Bangladesh.\",\n",
    "    \"Construct a narrative about Bangladesh.\",\n",
    "    \"Formulate a description about Bangladesh.\",\n",
    "    \"Draft a composition on the topic of Bangladesh.\",\n",
    "    \"Write a passage detailing Bangladesh.\",\n",
    "    \"Produce a paragraph elucidating Bangladesh.\",\n",
    "    \"Craft a written account about Bangladesh.\",\n",
    "    \"Generate a descriptive paragraph about Bangladesh.\",\n",
    "    \"Compose a narrative elucidating Bangladesh.\",\n",
    "    \"Draft a piece discussing Bangladesh.\",\n",
    "    \"Formulate a written exploration of Bangladesh.\",\n",
    "    \"Construct a passage outlining Bangladesh.\",\n",
    "    \"Create a description portraying Bangladesh.\",\n",
    "    \"Develop a written piece examining Bangladesh.\",\n",
    "    \"Generate a composition depicting Bangladesh.\",\n",
    "    \"Craft a narrative reflecting on Bangladesh.\",\n",
    "    \"Write a paragraph depicting Bangladesh.\"\n",
    "]\n",
    "\n",
    "container_fill_list = [\n",
    "    \"Bangladesh is a nation in South Asia with a rich cultural heritage and diverse landscapes.\",\n",
    "    \"Bangladesh is a country in South Asia known for its rich culture and diverse geography.\",\n",
    "    \"A written piece on Bangladesh would highlight its rich culture, diverse landscapes, and vibrant society.\",\n",
    "    \"An exploration of Bangladesh would reveal its diverse geography, rich culture, and vibrant society.\",\n",
    "    \"A narrative about Bangladesh would delve into its rich culture, diverse geography, and resilient population.\",\n",
    "    \"A description of Bangladesh would encompass its diverse geography, rich culture, and vibrant society.\",\n",
    "    \"A composition on Bangladesh would explore its diverse geography, rich culture, and vibrant society.\",\n",
    "    \"A passage detailing Bangladesh would highlight its diverse geography, rich culture, and resilient population.\",\n",
    "    \"Bangladesh is a country with a diverse geography, rich culture, and resilient population, worth exploring.\",\n",
    "    \"An elucidation of Bangladesh would discuss its diverse geography, rich culture, and resilient population.\",\n",
    "    \"An account of Bangladesh would outline its diverse geography, rich culture, and vibrant society.\",\n",
    "    \"A descriptive passage about Bangladesh would portray its diverse geography, rich culture, and vibrant society.\",\n",
    "    \"A narrative elucidating Bangladesh would illustrate its diverse geography, rich culture, and vibrant society.\",\n",
    "    \"A piece discussing Bangladesh would analyze its diverse geography, rich culture, and vibrant society.\",\n",
    "    \"A written exploration of Bangladesh would delve into its diverse geography, rich culture, and resilient population.\",\n",
    "    \"A passage outlining Bangladesh would highlight its diverse geography, rich culture, and vibrant society.\",\n",
    "    \"A description portraying Bangladesh would depict its diverse geography, rich culture, and vibrant society.\",\n",
    "    \"A written piece examining Bangladesh would analyze its diverse geography, rich culture, and vibrant society.\",\n",
    "    \"A composition depicting Bangladesh would illustrate its diverse geography, rich culture, and resilient population.\",\n",
    "    \"A narrative reflecting on Bangladesh would reflect its diverse geography, rich culture, and vibrant society.\",\n",
    "]"
   ]
  },
  {
   "cell_type": "code",
   "execution_count": 168,
   "metadata": {
    "id": "0c0BzWdcxvAC"
   },
   "outputs": [],
   "source": [
    "container = Container(html_code, parameters, promts_list, container_fill_list)"
   ]
  },
  {
   "cell_type": "code",
   "execution_count": 169,
   "metadata": {
    "id": "9H3SF-Qc1rDU"
   },
   "outputs": [],
   "source": [
    "data_point = 500\n",
    "code, promts = container.dataset(data_point)"
   ]
  },
  {
   "cell_type": "code",
   "execution_count": 170,
   "metadata": {
    "colab": {
     "base_uri": "https://localhost:8080/",
     "height": 122
    },
    "id": "uVRk1rPQ4Lvi",
    "outputId": "f055967d-5711-41f0-e662-6752856b914d"
   },
   "outputs": [
    {
     "data": {
      "application/vnd.google.colaboratory.intrinsic+json": {
       "type": "string"
      },
      "text/plain": [
       "'<!-- wp:zolo/container {\"variationStatus\":true,\"isBlockRootParent\":true,\"zolo_ContainerGapGap\":104,\"zolo_ContentWidthRange\":1536,\"zolo_MinHeightRange\":535,\"FlexDirectionZRPAlign\":\"column\",\"uniqueId\":\"container-ft53gcpb\",\"parentClasses\":[\"zolo-block parent-container-ft53gcpb\"],\"zoloStyles\":{\"desktop\":\".container-ft53gcpb.block-editor-block-list__block.wp-block-zolo-container > .zolo-container-inner-blocks-wrap,.wp-block-zolo-container.zolo-root-container.alignfull.container-ft53gcpb > .zolo-container-inner-blocks-wrap { max-width:1536px }.is-root-container > .block-editor-block-list__block .block-editor-block-list__block#block-8a4130b5-1364-45b6-9dc4-53e1135edc81,.wp-block-zolo-container.zolo-root-container.frontend .container-ft53gcpb { max-width:100%; width:100% }.container-ft53gcpb { min-height:535px }.container-ft53gcpb.wp-block-zolo-container > .zolo-container-inner-blocks-wrap > .block-editor-inner-blocks > .block-editor-block-list__layout,.container-ft53gcpb.wp-block-zolo-container.zolo-root-container.alignfull > .zolo-container-inner-blocks-wrap { gap:104px; flex-direction:column; flex-wrap:nowrap; justify-content:center; align-items:center }\",\"tab\":\".is-root-container > .block-editor-block-list__block .block-editor-block-list__block#block-8a4130b5-1364-45b6-9dc4-53e1135edc81,.wp-block-zolo-container.zolo-root-container.frontend .container-ft53gcpb { width:100% }\",\"mobile\":\".is-root-container > .block-editor-block-list__block .block-editor-block-list__block#block-8a4130b5-1364-45b6-9dc4-53e1135edc81,.wp-block-zolo-container.zolo-root-container.frontend .container-ft53gcpb { width:100% }\"},\"selectedTab\":\"style\"} --> <div class=\"wp-block-zolo-container container-ft53gcpb alignfull zolo-root-container frontend zolo-block parent-container-ft53gcpb\"><div class=\"zolo-container-inner-blocks-wrap\"><!-- wp:paragraph --> <p>A composition on Bangladesh would explore its diverse geography, rich culture, and vibrant society.</p> <!-- /wp:paragraph --></div></div> <!-- /wp:zolo/container -->'"
      ]
     },
     "execution_count": 170,
     "metadata": {},
     "output_type": "execute_result"
    }
   ],
   "source": [
    "code[30]"
   ]
  }
 ],
 "metadata": {
  "colab": {
   "provenance": []
  },
  "kernelspec": {
   "display_name": "Python 3 (ipykernel)",
   "language": "python",
   "name": "python3"
  },
  "language_info": {
   "codemirror_mode": {
    "name": "ipython",
    "version": 3
   },
   "file_extension": ".py",
   "mimetype": "text/x-python",
   "name": "python",
   "nbconvert_exporter": "python",
   "pygments_lexer": "ipython3",
   "version": "3.10.4"
  }
 },
 "nbformat": 4,
 "nbformat_minor": 1
}
