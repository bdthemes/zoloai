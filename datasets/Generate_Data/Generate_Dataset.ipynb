{
 "cells": [
  {
   "cell_type": "code",
   "execution_count": 8,
   "id": "fef9f2a6-d0bd-438c-a8e1-b909a4364820",
   "metadata": {},
   "outputs": [],
   "source": [
    "import pickle\n",
    "import random"
   ]
  },
  {
   "cell_type": "code",
   "execution_count": 2,
   "id": "2212593e-23d7-4734-a9a6-4658a0ad9f19",
   "metadata": {},
   "outputs": [],
   "source": [
    "with open('container_data.pkl', 'rb') as container_data:\n",
    "    container_dataset = pickle.load(container_data)"
   ]
  },
  {
   "cell_type": "code",
   "execution_count": 3,
   "id": "62a71060-d842-4046-9a39-3e4ac58b9f1d",
   "metadata": {},
   "outputs": [],
   "source": [
    "with open('accordion_data.pkl', 'rb') as accordion_data:\n",
    "    accordion_prompts = pickle.load(accordion_data)"
   ]
  },
  {
   "cell_type": "code",
   "execution_count": 4,
   "id": "86a0a67f-42b6-4240-8f63-f1881dac467e",
   "metadata": {},
   "outputs": [],
   "source": [
    "with open('advanced_button_data.pkl', 'rb') as advanced_button_data:\n",
    "    advanced_button_prompts = pickle.load(advanced_button_data)"
   ]
  },
  {
   "cell_type": "code",
   "execution_count": 9,
   "id": "c4049baf-c4fb-43e3-98ae-8d5a2c5a660b",
   "metadata": {},
   "outputs": [
    {
     "name": "stdout",
     "output_type": "stream",
     "text": [
      "2650\n"
     ]
    }
   ],
   "source": [
    "dataset_list = container_dataset + accordion_prompts + advanced_button_prompts\n",
    "random.shuffle(dataset_list)\n",
    "print(len(dataset_list))"
   ]
  },
  {
   "cell_type": "code",
   "execution_count": 10,
   "id": "228ee694-5013-4236-806d-3a16e7c6fa84",
   "metadata": {},
   "outputs": [],
   "source": [
    "with open('dataset.txt', 'w', encoding=\"utf8\") as dataset:\n",
    "    for data in dataset_list:\n",
    "        dataset.write(data)"
   ]
  }
 ],
 "metadata": {
  "kernelspec": {
   "display_name": "Python 3 (ipykernel)",
   "language": "python",
   "name": "python3"
  },
  "language_info": {
   "codemirror_mode": {
    "name": "ipython",
    "version": 3
   },
   "file_extension": ".py",
   "mimetype": "text/x-python",
   "name": "python",
   "nbconvert_exporter": "python",
   "pygments_lexer": "ipython3",
   "version": "3.10.4"
  }
 },
 "nbformat": 4,
 "nbformat_minor": 5
}
