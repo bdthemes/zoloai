{
 "cells": [
  {
   "cell_type": "code",
   "execution_count": 13,
   "id": "fef9f2a6-d0bd-438c-a8e1-b909a4364820",
   "metadata": {},
   "outputs": [],
   "source": [
    "import pickle\n",
    "import random\n",
    "import pandas as pd"
   ]
  },
  {
   "cell_type": "code",
   "execution_count": 2,
   "id": "2212593e-23d7-4734-a9a6-4658a0ad9f19",
   "metadata": {},
   "outputs": [],
   "source": [
    "# with open('container_data.pkl', 'rb') as container_data:\n",
    "#     container_dataset = pickle.load(container_data)"
   ]
  },
  {
   "cell_type": "code",
   "execution_count": 3,
   "id": "62a71060-d842-4046-9a39-3e4ac58b9f1d",
   "metadata": {},
   "outputs": [],
   "source": [
    "# with open('accordion_data.pkl', 'rb') as accordion_data:\n",
    "#     accordion_prompts = pickle.load(accordion_data)"
   ]
  },
  {
   "cell_type": "code",
   "execution_count": 4,
   "id": "86a0a67f-42b6-4240-8f63-f1881dac467e",
   "metadata": {},
   "outputs": [],
   "source": [
    "# with open('advanced_button_data.pkl', 'rb') as advanced_button_data:\n",
    "#     advanced_button_prompts = pickle.load(advanced_button_data)"
   ]
  },
  {
   "cell_type": "code",
   "execution_count": null,
   "id": "39af923a-4f3d-4eff-8619-beb0b34e479b",
   "metadata": {},
   "outputs": [],
   "source": []
  },
  {
   "cell_type": "code",
   "execution_count": 9,
   "id": "c4049baf-c4fb-43e3-98ae-8d5a2c5a660b",
   "metadata": {},
   "outputs": [
    {
     "name": "stdout",
     "output_type": "stream",
     "text": [
      "2650\n"
     ]
    }
   ],
   "source": [
    "# dataset_list = container_dataset + accordion_prompts + advanced_button_prompts\n",
    "# random.shuffle(dataset_list)\n",
    "# print(len(dataset_list))"
   ]
  },
  {
   "cell_type": "code",
   "execution_count": 10,
   "id": "228ee694-5013-4236-806d-3a16e7c6fa84",
   "metadata": {},
   "outputs": [],
   "source": [
    "# with open('dataset.txt', 'w', encoding=\"utf8\") as dataset:\n",
    "#     for data in dataset_list:\n",
    "#         dataset.write(data)"
   ]
  },
  {
   "cell_type": "code",
   "execution_count": 14,
   "id": "c71d20b6-4c6c-42ba-82b2-aeb4ea312fcb",
   "metadata": {},
   "outputs": [],
   "source": [
    "container = pd.read_csv(r\"container.csv\")[\"0\"].tolist()\n",
    "advanced_button = pd.read_csv(r\"advanced_button.csv\")[\"0\"].tolist()\n",
    "advanced_heading = pd.read_csv(r\"advanced_heading.csv\")[\"text\"].tolist()\n",
    "accordion = pd.read_csv(r\"accordion.csv\")[\"0\"].tolist()\n",
    "advance_image = pd.read_csv(r\"advanced_image.csv\")[\"text\"].tolist()"
   ]
  },
  {
   "cell_type": "code",
   "execution_count": 15,
   "id": "f0986cba-6c4c-4f45-9891-93d277dad57c",
   "metadata": {},
   "outputs": [],
   "source": [
    "dataset_list = container + advanced_button + advanced_heading + accordion + advance_image\n",
    "random.shuffle(dataset_list)\n",
    "\n",
    "dataset = []\n",
    "for data in dataset_list:\n",
    "    temp_data = {\"text\" : data}\n",
    "    dataset.append(temp_data)\n",
    "\n",
    "dataset = pd.DataFrame(dataset)"
   ]
  },
  {
   "cell_type": "code",
   "execution_count": 16,
   "id": "34dd8632-06cd-4a0c-8621-8f5c9ac58e81",
   "metadata": {},
   "outputs": [],
   "source": [
    "dataset.to_csv('dataset.csv', index = False)"
   ]
  },
  {
   "cell_type": "code",
   "execution_count": 17,
   "id": "ec0df915-4989-4222-85c2-5ba8f6ca9ece",
   "metadata": {},
   "outputs": [
    {
     "data": {
      "text/plain": [
       "3420"
      ]
     },
     "execution_count": 17,
     "metadata": {},
     "output_type": "execute_result"
    }
   ],
   "source": [
    "len(dataset_list)"
   ]
  },
  {
   "cell_type": "code",
   "execution_count": 33,
   "id": "879b844f",
   "metadata": {},
   "outputs": [
    {
     "data": {
      "text/plain": [
       "'<s> [INST] <<SYS>> Generate ZOLO block code required for the user input. Strictly follow the output format. Start output with ++ and end with ++ <<\\\\SYS>>User input: Produce an improved feature titled WhatsApp guiding to www.whatsapp.com. [/INST] ++Output = {\"Block_Name\": \"Advanced_Button\", \"Button_Name\": \"GitHub\", \"Button_URL\": \"www.google.com\"}++ </s> \\n'"
      ]
     },
     "execution_count": 33,
     "metadata": {},
     "output_type": "execute_result"
    }
   ],
   "source": [
    "advanced_button[103]"
   ]
  },
  {
   "cell_type": "code",
   "execution_count": 25,
   "id": "9b51afd3",
   "metadata": {},
   "outputs": [
    {
     "data": {
      "text/plain": [
       "'<s> [INST] <<SYS>> Generate ZOLO block code required for the user input. Strictly follow the output format. Start output with ++ and end with ++ <<\\\\SYS>> User input: Formulate a thought-provoking heading: \\'Persona Profound: Person 1\\' [/INST] ++Output = {\"Block_Name\": \"Advanced_Heading\", \"Main_Heading\": \"Guardians of the Wild: Wildlife Conservation Efforts\"}++ </s> \\n'"
      ]
     },
     "execution_count": 25,
     "metadata": {},
     "output_type": "execute_result"
    }
   ],
   "source": [
    "advanced_heading[12]"
   ]
  },
  {
   "cell_type": "code",
   "execution_count": 35,
   "id": "33e7d0c3",
   "metadata": {},
   "outputs": [
    {
     "data": {
      "text/plain": [
       "'<s> [INST] <<SYS>> Generate ZOLO block code required for the user input. Strictly follow the output format. Start output with ++ and end with ++ <<\\\\SYS>>User input: Delve into the exhibition of 5G and 3G technologies, presented in an accordion-style narrative, each fold revealing new dimensions of connectivity. [/INST] ++Output = {\"Block_Name\": \"Accordion\", \"Accordion_Child_Number\": 2, \"Accordion_Title\":[\\'renewable energy sources\\', \\'virtual reality\\'], \"Accordion_Contents\":[\\'Digital surveillance, the ubiquitous presence of monitoring technologies, raises debates about privacy and civil liberties in an era of heightened security concerns and mass data collection.\\', \\'Digital nomadism, the lifestyle of remote work and travel, embodies freedom and adventure in the digital age, yet confronts challenges of work-life balance and social isolation.\\']}++ </s> \\n'"
      ]
     },
     "execution_count": 35,
     "metadata": {},
     "output_type": "execute_result"
    }
   ],
   "source": [
    "accordion[53]"
   ]
  },
  {
   "cell_type": "code",
   "execution_count": 36,
   "id": "62bb1f03",
   "metadata": {},
   "outputs": [
    {
     "data": {
      "text/plain": [
       "'<s> [INST] <<SYS>> Generate ZOLO block code required for the user input. Strictly follow the output format. Start output with ++ and end with ++ <<\\\\SYS>>User input: Examine the environmental impact of mango, litchi, and banana cultivation. [/INST] ++Output = {\"Block_Name\": \"Container\", \"Container_ID\": 2, \"Paragraph_List\":[\\'Smartphones play a pivotal role in shaping digital culture, influencing trends and behaviors across various domains.\\', \\'5G networks condense the significance of revolutionizing communication infrastructure, heralding a new era of connectivity.\\', \\'A concise paragraph highlights the evolution of mobile technology, illustrating its profound impact on societal dynamics.\\']}++ </s> \\n'"
      ]
     },
     "execution_count": 36,
     "metadata": {},
     "output_type": "execute_result"
    }
   ],
   "source": [
    "container[52]"
   ]
  },
  {
   "cell_type": "code",
   "execution_count": 29,
   "id": "8cb0a990",
   "metadata": {},
   "outputs": [
    {
     "data": {
      "text/plain": [
       "'<s> [INST] <<SYS>> Generate ZOLO block code required for the user input. Strictly follow the output format. Start output with ++ and end with ++ <<\\\\SYS>> User input: Create a visual section highlighting a tropical rainforest. [/INST] ++Output = {\"Block_Name\": \"Advanced_Image\", \"Image_Source\":\"UPLOAD\", \"Layout\":{\"HEADING\":\"Snowy Wonderland: Immersed in Tranquility\", \"DESCRIPTION\":\"Listen to the gentle lapping of water against the shore.\"}}++ </s> \\n'"
      ]
     },
     "execution_count": 29,
     "metadata": {},
     "output_type": "execute_result"
    }
   ],
   "source": [
    "advance_image[10]"
   ]
  },
  {
   "cell_type": "code",
   "execution_count": 21,
   "id": "1370a124-fa11-417e-a745-35e1b0b71788",
   "metadata": {},
   "outputs": [
    {
     "data": {
      "text/plain": [
       "'<s> [INST] <<SYS>> Generate ZOLO block code required for the user input. Strictly follow the output format. Start output with ++ and end with ++ <<\\\\SYS>>User input: Explore the potential of quantum computing in cryptography, optimization problems, drug discovery, and materials science. [/INST] ++Output = {\"Block_Name\": \"Container\", \"Container_ID\": 6, \"Paragraph_List\":[\\'The implications of 5G deployment for various industries are summarized briefly, highlighting transformative potentials.\\', \"Summarizing mobile technology\\'s essential functions and capabilities, it empowers individuals in various aspects of life.\", \\'A concise paragraph highlights the evolution of mobile technology, illustrating its profound impact on societal dynamics.\\', \\'Modern communication has been significantly impacted by smartphones, revolutionizing how we connect and interact.\\']}++ </s> \\n'"
      ]
     },
     "execution_count": 21,
     "metadata": {},
     "output_type": "execute_result"
    }
   ],
   "source": [
    "dataset[\"text\"][302]"
   ]
  }
 ],
 "metadata": {
  "kernelspec": {
   "display_name": "Python 3 (ipykernel)",
   "language": "python",
   "name": "python3"
  },
  "language_info": {
   "codemirror_mode": {
    "name": "ipython",
    "version": 3
   },
   "file_extension": ".py",
   "mimetype": "text/x-python",
   "name": "python",
   "nbconvert_exporter": "python",
   "pygments_lexer": "ipython3",
   "version": "3.10.4"
  }
 },
 "nbformat": 4,
 "nbformat_minor": 5
}
