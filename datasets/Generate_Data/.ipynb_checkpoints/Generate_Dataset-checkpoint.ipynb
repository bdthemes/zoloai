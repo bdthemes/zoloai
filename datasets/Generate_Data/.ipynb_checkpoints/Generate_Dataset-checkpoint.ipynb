{
 "cells": [
  {
   "cell_type": "code",
   "execution_count": 1,
   "id": "fef9f2a6-d0bd-438c-a8e1-b909a4364820",
   "metadata": {},
   "outputs": [],
   "source": [
    "import pickle"
   ]
  },
  {
   "cell_type": "code",
   "execution_count": 2,
   "id": "2212593e-23d7-4734-a9a6-4658a0ad9f19",
   "metadata": {},
   "outputs": [
    {
     "ename": "FileNotFoundError",
     "evalue": "[Errno 2] No such file or directory: 'container_data.pkl'",
     "output_type": "error",
     "traceback": [
      "\u001b[1;31m---------------------------------------------------------------------------\u001b[0m",
      "\u001b[1;31mFileNotFoundError\u001b[0m                         Traceback (most recent call last)",
      "Input \u001b[1;32mIn [2]\u001b[0m, in \u001b[0;36m<cell line: 1>\u001b[1;34m()\u001b[0m\n\u001b[1;32m----> 1\u001b[0m \u001b[38;5;28;01mwith\u001b[39;00m \u001b[38;5;28;43mopen\u001b[39;49m\u001b[43m(\u001b[49m\u001b[38;5;124;43m'\u001b[39;49m\u001b[38;5;124;43mcontainer_data.pkl\u001b[39;49m\u001b[38;5;124;43m'\u001b[39;49m\u001b[43m,\u001b[49m\u001b[43m \u001b[49m\u001b[38;5;124;43m'\u001b[39;49m\u001b[38;5;124;43mrb\u001b[39;49m\u001b[38;5;124;43m'\u001b[39;49m\u001b[43m)\u001b[49m \u001b[38;5;28;01mas\u001b[39;00m container_data:\n\u001b[0;32m      2\u001b[0m     container_dataset \u001b[38;5;241m=\u001b[39m pickle\u001b[38;5;241m.\u001b[39mload(container_data)\n",
      "\u001b[1;31mFileNotFoundError\u001b[0m: [Errno 2] No such file or directory: 'container_data.pkl'"
     ]
    }
   ],
   "source": [
    "with open('container_data.pkl', 'rb') as container_data:\n",
    "    container_dataset = pickle.load(container_data)"
   ]
  },
  {
   "cell_type": "code",
   "execution_count": null,
   "id": "62a71060-d842-4046-9a39-3e4ac58b9f1d",
   "metadata": {},
   "outputs": [],
   "source": [
    "with open('accordion_data.pkl', 'rb') as accordion_data:\n",
    "    accordion_prompts = pickle.load(accordion_data)"
   ]
  },
  {
   "cell_type": "code",
   "execution_count": null,
   "id": "86a0a67f-42b6-4240-8f63-f1881dac467e",
   "metadata": {},
   "outputs": [],
   "source": [
    "with open('advanced_button_data.pkl', 'rb') as advanced_button_data:\n",
    "    advanced_button_prompts = pickle.load(advanced_button_data)"
   ]
  }
 ],
 "metadata": {
  "kernelspec": {
   "display_name": "Python 3 (ipykernel)",
   "language": "python",
   "name": "python3"
  },
  "language_info": {
   "codemirror_mode": {
    "name": "ipython",
    "version": 3
   },
   "file_extension": ".py",
   "mimetype": "text/x-python",
   "name": "python",
   "nbconvert_exporter": "python",
   "pygments_lexer": "ipython3",
   "version": "3.10.4"
  }
 },
 "nbformat": 4,
 "nbformat_minor": 5
}
