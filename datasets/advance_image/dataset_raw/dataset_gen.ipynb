{
 "cells": [
  {
   "cell_type": "markdown",
   "id": "9dd11b36-e661-455b-b9ec-e477afcd5ec0",
   "metadata": {
    "tags": []
   },
   "source": [
    "# Advanced Image"
   ]
  },
  {
   "cell_type": "code",
   "execution_count": 43,
   "id": "ad1068ce-9875-46a4-a278-6a5a473511d3",
   "metadata": {},
   "outputs": [],
   "source": [
    "import pandas as pd\n",
    "import random\n",
    "import nltk\n",
    "import ast"
   ]
  },
  {
   "cell_type": "code",
   "execution_count": 44,
   "id": "6bd836b2",
   "metadata": {},
   "outputs": [],
   "source": [
    "def check_out_dict(ip_dict):\n",
    "    try:\n",
    "        ast.literal_eval(ip_dict)\n",
    "    except:\n",
    "        raise(Exception(\"Check output dictionary type\"))"
   ]
  },
  {
   "cell_type": "code",
   "execution_count": 54,
   "id": "f07e0fd7-725e-4d28-a5c3-58b662897957",
   "metadata": {},
   "outputs": [],
   "source": [
    "advanced_image_prompts = []"
   ]
  },
  {
   "cell_type": "markdown",
   "id": "2b8a423c-c77b-4b00-8918-793a98d0a1c5",
   "metadata": {
    "tags": []
   },
   "source": [
    "# Normal Upload"
   ]
  },
  {
   "cell_type": "code",
   "execution_count": 55,
   "id": "8327cc70-de4f-4180-a3c6-0dc9173c667c",
   "metadata": {},
   "outputs": [
    {
     "name": "stdout",
     "output_type": "stream",
     "text": [
      "['Input_Prompt']\n",
      "prompt_list length = 63\n"
     ]
    },
    {
     "data": {
      "text/plain": [
       "{'text': '<s> [INST] <<SYS>> Generate ZOLO block code required for the user input. Strictly follow the output format. Start output with ++ and end with ++ <<\\\\SYS>> User input: Create a block for images. [/INST] ++Output = {\"Block_Name\": \"Advanced_Image\", \"Image_Source\":\"UPLOAD\", \"Layout\":\"Normal\"}++ </s> \\n'}"
      ]
     },
     "execution_count": 55,
     "metadata": {},
     "output_type": "execute_result"
    }
   ],
   "source": [
    "prompt_data = pd.read_csv(r\"normal_upload.csv\")\n",
    "\n",
    "print(prompt_data.columns.values)\n",
    "\n",
    "prompt_list = ast.literal_eval(prompt_data['Input_Prompt'].values[0])\n",
    "\n",
    "print(f\"prompt_list length = {len(prompt_list)}\")\n",
    "\n",
    "# Output style\n",
    "# {\"Block_Name\": \"Advanced_Image\", \"Image_Source\":\"UPLOAD\", \"Layout\":\"Normal\"}\n",
    "\n",
    "# Whole Prompt style\n",
    "# <s> [INST] <<SYS>> Generate ZOLO block code required for the user input. Strictly follow the output format. \n",
    "# Start output with ++ and end with ++ <<\\SYS>>User input: {promt} [/INST] ++Output = {Output}++ </s> \\n\n",
    "\n",
    "length = 150\n",
    "\n",
    "for indx in range(length):\n",
    "    # Select prompt\n",
    "    try:\n",
    "        prompt = prompt_list[indx]\n",
    "    except:\n",
    "        prompt = random.choice(prompt_list)\n",
    "\n",
    "    output = f\"{{\\\"Block_Name\\\": \\\"Advanced_Image\\\", \\\"Image_Source\\\":\\\"UPLOAD\\\", \\\"Layout\\\":\\\"Normal\\\"}}\"\n",
    "    check_out_dict(output)\n",
    "    whole_prompt = f\"\"\"<s> [INST] <<SYS>> Generate ZOLO block code required for the user input. Strictly follow the output format. Start output with ++ and end with ++ <<\\SYS>> User input: {prompt} [/INST] ++Output = {output}++ </s> \\n\"\"\"\n",
    "    \n",
    "    advanced_image_prompts.append({\"text\":whole_prompt})\n",
    "    \n",
    "advanced_image_prompts[0]    "
   ]
  },
  {
   "cell_type": "markdown",
   "id": "5718a538-7602-4613-a87d-1d879125d3a2",
   "metadata": {
    "tags": []
   },
   "source": [
    "# Normal Link"
   ]
  },
  {
   "cell_type": "code",
   "execution_count": 56,
   "id": "f56ff70b-0fe0-4fa6-9eae-8a0a62199d7d",
   "metadata": {},
   "outputs": [
    {
     "name": "stdout",
     "output_type": "stream",
     "text": [
      "['Input_Prompt' 'Links']\n",
      "Prompt_list length = 7\n",
      "Link_list length = 7\n"
     ]
    },
    {
     "data": {
      "text/plain": [
       "{'text': '<s> [INST] <<SYS>> Generate ZOLO block code required for the user input. Strictly follow the output format. Start output with ++ and end with ++ <<\\\\SYS>> User input: Exhibit an image block containing the visual representation sourced from: https://images.pexels.com/photos/130576/pexels-photo-130576.jpeg?cs=srgb&dl=pexels-pok-rie-33563-130576.jpg&fm=jpg [/INST] ++Output = {\"Block_Name\": \"Advanced_Image\", \"Image_Source\":\"LINK\", \"IMAGE_LINK\":\"https://images.pexels.com/photos/130576/pexels-photo-130576.jpeg?cs=srgb&dl=pexels-pok-rie-33563-130576.jpg&fm=jpg\", \"Layout\":\"Normal\"}++ </s> \\n'}"
      ]
     },
     "execution_count": 56,
     "metadata": {},
     "output_type": "execute_result"
    }
   ],
   "source": [
    "prompt_data = pd.read_csv(r\"normal_link.csv\")\n",
    "\n",
    "print(prompt_data.columns.values)\n",
    "\n",
    "prompt_list = ast.literal_eval(prompt_data['Input_Prompt'].values[0])\n",
    "link_list = ast.literal_eval(prompt_data['Links'].values[0])\n",
    "\n",
    "print(f\"Prompt_list length = {len(prompt_list)}\")\n",
    "print(f\"Link_list length = {len(link_list)}\")\n",
    "\n",
    "# Output style\n",
    "# {\"Block_Name\": \"Advanced_Heading\", \"Main_Heading\": \"Main_Heading\", \"Heading_URL\": \"URL\"}\n",
    "\n",
    "# Whole Prompt style\n",
    "# <s> [INST] <<SYS>> Generate ZOLO block code required for the user input. Strictly follow the output format. \n",
    "# Start output with ++ and end with ++ <<\\SYS>>User input: {promt} [/INST] ++Output = {Output}++ </s> \\n\n",
    "\n",
    "length = 100\n",
    "\n",
    "for indx in range(length):\n",
    "    # Select prompt\n",
    "    try:\n",
    "        prompt = prompt_list[indx]\n",
    "    except:\n",
    "        prompt = random.choice(prompt_list)\n",
    "    \n",
    "    # add link\n",
    "    try:\n",
    "        link = link_list[indx]\n",
    "    except:\n",
    "        link = random.choice(link_list)\n",
    "\n",
    "    output = f\"\"\"{{\\\"Block_Name\\\": \\\"Advanced_Image\\\", \\\"Image_Source\\\":\\\"LINK\\\", \\\"IMAGE_LINK\\\":\\\"{link}\\\", \\\"Layout\\\":\\\"Normal\\\"}}\"\"\"\n",
    "    check_out_dict(output)\n",
    "    whole_prompt = f\"\"\"<s> [INST] <<SYS>> Generate ZOLO block code required for the user input. Strictly follow the output format. Start output with ++ and end with ++ <<\\SYS>> User input: {prompt} [/INST] ++Output = {output}++ </s> \\n\"\"\"\n",
    "    \n",
    "    advanced_image_prompts.append({\"text\":whole_prompt})\n",
    "    \n",
    "advanced_image_prompts[-1]    "
   ]
  },
  {
   "cell_type": "markdown",
   "id": "0a5ce4b2-050f-4dc6-b387-e63e5c34e2d9",
   "metadata": {
    "tags": []
   },
   "source": [
    "# Overlay Upload"
   ]
  },
  {
   "cell_type": "code",
   "execution_count": 57,
   "id": "86be7416-c69f-4df6-824a-63e5f7d79331",
   "metadata": {},
   "outputs": [
    {
     "name": "stdout",
     "output_type": "stream",
     "text": [
      "['Input_Prompt' 'Heading' 'Description']\n",
      "Prompt_list length = 49\n",
      "heading_list length = 39\n",
      "description_list length = 40\n"
     ]
    },
    {
     "data": {
      "text/plain": [
       "{'text': '<s> [INST] <<SYS>> Generate ZOLO block code required for the user input. Strictly follow the output format. Start output with ++ and end with ++ <<\\\\SYS>> User input: Develop an image section highlighting a sunset view. [/INST] ++Output = {\"Block_Name\": \"Advanced_Image\", \"Image_Source\":\"UPLOAD\", \"Layout\":{\"HEADING\":\"Foggy Morning Magic: Unveiling a New Day\", \"DESCRIPTION\":\"Let the moonlight guide you through the darkness of night.\"}}++ </s> \\n'}"
      ]
     },
     "execution_count": 57,
     "metadata": {},
     "output_type": "execute_result"
    }
   ],
   "source": [
    "prompt_data = pd.read_csv(r\"overlay_upload.csv\")\n",
    "\n",
    "print(prompt_data.columns.values)\n",
    "\n",
    "prompt_list = ast.literal_eval(prompt_data['Input_Prompt'].values[0])\n",
    "heading_list = ast.literal_eval(prompt_data['Heading'].values[0])\n",
    "description_list = ast.literal_eval(prompt_data['Description'].values[0])\n",
    "\n",
    "print(f\"Prompt_list length = {len(prompt_list)}\")\n",
    "print(f\"heading_list length = {len(heading_list)}\")\n",
    "print(f\"description_list length = {len(description_list)}\")\n",
    "\n",
    "# Output style\n",
    "# {\"Block_Name\": \"Advanced_Image\", \"Image_Source\":\"UPLOAD\", \"Layout\":{\"HEADING\":\"Generated Heading\", \"DESCRIPTION\":\"Generated Description\"}}\n",
    "\n",
    "# Whole Prompt style\n",
    "# <s> [INST] <<SYS>> Generate ZOLO block code required for the user input. Strictly follow the output format. \n",
    "# Start output with ++ and end with ++ <<\\SYS>>User input: {promt} [/INST] ++Output = {Output}++ </s> \\n\n",
    "\n",
    "length = 200\n",
    "\n",
    "for indx in range(length):\n",
    "    # Select prompt\n",
    "    try:\n",
    "        prompt = prompt_list[indx]\n",
    "    except:\n",
    "        prompt = random.choice(prompt_list)\n",
    "        \n",
    "    # Select heading\n",
    "    try:\n",
    "        heading = heading_list[indx]\n",
    "    except:\n",
    "        heading = random.choice(heading_list)\n",
    "    \n",
    "    # select description\n",
    "    try:\n",
    "        description = description_list[indx]\n",
    "    except:\n",
    "        description = random.choice(description_list)\n",
    "\n",
    "    output = f\"{{\\\"Block_Name\\\": \\\"Advanced_Image\\\", \\\"Image_Source\\\":\\\"UPLOAD\\\", \\\"Layout\\\":{{\\\"HEADING\\\":\\\"{heading}\\\", \\\"DESCRIPTION\\\":\\\"{description}\\\"}}}}\"\n",
    "    check_out_dict(output)\n",
    "    whole_prompt = f\"\"\"<s> [INST] <<SYS>> Generate ZOLO block code required for the user input. Strictly follow the output format. Start output with ++ and end with ++ <<\\SYS>> User input: {prompt} [/INST] ++Output = {output}++ </s> \\n\"\"\"\n",
    "    \n",
    "    advanced_image_prompts.append({\"text\":whole_prompt})\n",
    "    \n",
    "advanced_image_prompts[-1]    "
   ]
  },
  {
   "cell_type": "markdown",
   "id": "9471f5bc-2f0e-45b4-853d-6f24d2e85c70",
   "metadata": {
    "tags": []
   },
   "source": [
    "# Overlay Link"
   ]
  },
  {
   "cell_type": "code",
   "execution_count": 58,
   "id": "36d59c1e-eef5-4742-90e3-8e9ae0c03e03",
   "metadata": {},
   "outputs": [
    {
     "name": "stdout",
     "output_type": "stream",
     "text": [
      "['Input_Prompt' 'Heading' 'Description' 'Links']\n",
      "Prompt_list length = 49\n",
      "heading_list length = 39\n",
      "description_list length = 40\n",
      "Link length = 7\n"
     ]
    },
    {
     "data": {
      "text/plain": [
       "{'text': '<s> [INST] <<SYS>> Generate ZOLO block code required for the user input. Strictly follow the output format. Start output with ++ and end with ++ <<\\\\SYS>> User input: Design an image block featuring a majestic canyon view.Image from the link: https://images.pexels.com/photos/130576/pexels-photo-130576.jpeg?cs=srgb&dl=pexels-pok-rie-33563-130576.jpg&fm=jpg [/INST] ++Output = {\"Block_Name\": \"Advanced_Image\", \"Image_Source\":\"LINK\", \"IMAGE_LINK\":\"https://images.pexels.com/photos/130576/pexels-photo-130576.jpeg?cs=srgb&dl=pexels-pok-rie-33563-130576.jpg&fm=jpg\", \"Layout\":{\"HEADING\":\"Desert Dreams: Exploring Vast Sandscapes\", \"DESCRIPTION\":\"Gaze at the twinkling stars illuminating the night sky.\"}}++ </s> \\n'}"
      ]
     },
     "execution_count": 58,
     "metadata": {},
     "output_type": "execute_result"
    }
   ],
   "source": [
    "prompt_data = pd.read_csv(r\"overlay_link.csv\")\n",
    "\n",
    "print(prompt_data.columns.values)\n",
    "\n",
    "prompt_list = ast.literal_eval(prompt_data['Input_Prompt'].values[0])\n",
    "link_list = ast.literal_eval(prompt_data['Links'].values[0])\n",
    "heading_list = ast.literal_eval(prompt_data['Heading'].values[0])\n",
    "description_list = ast.literal_eval(prompt_data['Description'].values[0])\n",
    "\n",
    "print(f\"Prompt_list length = {len(prompt_list)}\")\n",
    "print(f\"heading_list length = {len(heading_list)}\")\n",
    "print(f\"description_list length = {len(description_list)}\")\n",
    "print(f\"Link length = {len(link_list)}\")\n",
    "    \n",
    "# Output style\n",
    "# {\"Block_Name\": \"Advanced_Image\", \"Image_Source\":\"UPLOAD\", \"Layout\":{\"HEADING\":\"Generated Heading\", \"DESCRIPTION\":\"Generated Description\"}}\n",
    "    \n",
    "# Whole Prompt style\n",
    "# <s> [INST] <<SYS>> Generate ZOLO block code required for the user input. Strictly follow the output format. \n",
    "# Start output with ++ and end with ++ <<\\SYS>>User input: {promt} [/INST] ++Output = {Output}++ </s> \\n\n",
    "    \n",
    "length = 200\n",
    "    \n",
    "for indx in range(length):\n",
    "    # Select link\n",
    "    try:\n",
    "        link = link_list[indx]\n",
    "    except:\n",
    "        link = random.choice(link_list)\n",
    "        \n",
    "    # Select prompt\n",
    "    try:\n",
    "        prompt = prompt_list[indx] + f\"Image from the link: {link}\"\n",
    "    except:\n",
    "        prompt = random.choice(prompt_list) + f\"Image from the link: {link}\"\n",
    "        \n",
    "    # Select heading\n",
    "    try:\n",
    "        heading = heading_list[indx]\n",
    "    except:\n",
    "        heading = random.choice(heading_list)\n",
    "    \n",
    "    # select description\n",
    "    try:\n",
    "        description = description_list[indx]\n",
    "    except:\n",
    "        description = random.choice(description_list)\n",
    "    \n",
    "    output = f\"\"\"{{\\\"Block_Name\\\": \\\"Advanced_Image\\\", \\\"Image_Source\\\":\\\"LINK\\\", \\\"IMAGE_LINK\\\":\\\"{link}\\\", \\\"Layout\\\":{{\\\"HEADING\\\":\\\"{heading}\\\", \\\"DESCRIPTION\\\":\\\"{description}\\\"}}}}\"\"\"\n",
    "    check_out_dict(output)\n",
    "    whole_prompt = f\"\"\"<s> [INST] <<SYS>> Generate ZOLO block code required for the user input. Strictly follow the output format. Start output with ++ and end with ++ <<\\SYS>> User input: {prompt} [/INST] ++Output = {output}++ </s> \\n\"\"\"\n",
    "    \n",
    "    advanced_image_prompts.append({\"text\":whole_prompt})\n",
    "    \n",
    "advanced_image_prompts[-1]    "
   ]
  },
  {
   "cell_type": "code",
   "execution_count": 59,
   "id": "fb73dfcf-c719-4993-b261-76ecf746724b",
   "metadata": {},
   "outputs": [
    {
     "name": "stdout",
     "output_type": "stream",
     "text": [
      "Total 650 data for advanced_image\n"
     ]
    }
   ],
   "source": [
    "random.shuffle(advanced_image_prompts)\n",
    "print(f\"Total {len(advanced_image_prompts)} data for advanced_image\")\n",
    "\n",
    "dataset = pd.DataFrame(advanced_image_prompts)\n",
    "dataset.to_csv('advanced_image.csv', index=False)"
   ]
  }
 ],
 "metadata": {
  "kernelspec": {
   "display_name": "Python 3 (ipykernel)",
   "language": "python",
   "name": "python3"
  },
  "language_info": {
   "codemirror_mode": {
    "name": "ipython",
    "version": 3
   },
   "file_extension": ".py",
   "mimetype": "text/x-python",
   "name": "python",
   "nbconvert_exporter": "python",
   "pygments_lexer": "ipython3",
   "version": "3.10.4"
  }
 },
 "nbformat": 4,
 "nbformat_minor": 5
}
