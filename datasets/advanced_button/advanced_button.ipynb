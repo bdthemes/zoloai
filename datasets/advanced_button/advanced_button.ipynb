{
 "cells": [
  {
   "cell_type": "code",
   "execution_count": 4,
   "id": "e12a54e8-20b9-4d46-828b-6d23b208ff50",
   "metadata": {},
   "outputs": [],
   "source": [
    "import re\n",
    "from nanoid import generate\n",
    "import pandas as pd\n",
    "import random\n",
    "import json"
   ]
  },
  {
   "cell_type": "code",
   "execution_count": 13,
   "id": "0e7f3c93-db7e-4366-b3e3-a846c4c2cdd4",
   "metadata": {},
   "outputs": [],
   "source": [
    "# Accordion output style\n",
    "# ++{\"Block_Name\": \"Advanced_Button\", \"Button_Name\": \"Name\", \"Button_URL\": \"URL\"}++\n",
    "# "
   ]
  },
  {
   "cell_type": "code",
   "execution_count": 21,
   "id": "c9ef5f29",
   "metadata": {},
   "outputs": [],
   "source": [
    "class Advanced_Button():\n",
    "  def __init__(self, generated_input):\n",
    "    self.block_type = \"advanced-button\"\n",
    "    self.code_all = pd.read_csv (r'advanced_button_info.csv')\n",
    "    self.advanced_button_code = self.code_all[\"advanced_button_code\"].values[0]\n",
    "    \n",
    "    try:\n",
    "        self.button_name = generated_input[\"Button_Name\"]\n",
    "    except:\n",
    "        self.button_name = \"Advanced Button\"\n",
    "    \n",
    "    try:\n",
    "        self.button_url = generated_input[\"Button_URL\"]\n",
    "    except:\n",
    "        self.button_url = \"enter_your_url_here\"\n",
    "    \n",
    "  # function to generate unique IDs\n",
    "  def gen_uniqueId(self):\n",
    "    # generate unique ID\n",
    "    # identified by [UNIQUE_ID] in the code\n",
    "    block_type = self.block_type\n",
    "    unique_ID_char = generate(\"123456789abcdefghijklmnopqrstuvwxyz\",size=8) # 8 character long  only number and alphabet\n",
    "    unique_ID = f\"{block_type}-{unique_ID_char}\"\n",
    "    return unique_ID\n",
    "\n",
    "  def replace_params(self, string, replacements):\n",
    "    # Regular expression to match custom placeholders\n",
    "    pattern = r'\\[([^\\[\\]]*)\\]'\n",
    "    return re.sub(pattern, lambda match: replacements.get(match.group(1), match.group(0)), string)\n",
    "\n",
    "  def gen_unique_id(self):\n",
    "    replacement_dict = {}\n",
    "    # generate UNIQUE_ID\n",
    "    unique_id = self.gen_uniqueId()\n",
    "    unique_id_name = f\"UNIQUE_ID_0\"\n",
    "    temp_dict = {unique_id_name:unique_id}\n",
    "    replacement_dict.update(temp_dict)\n",
    "    return replacement_dict\n",
    "\n",
    "  def get_code(self):\n",
    "    # Generate accordion start code\n",
    "    replacement_dict = self.gen_unique_id()\n",
    "    \n",
    "    # Add button name\n",
    "    temp_dict = {\"Button_Name\":self.button_name}\n",
    "    replacement_dict.update(temp_dict)\n",
    "    \n",
    "    # Add URL\n",
    "    temp_dict = {\"URL_Here\":self.button_url}\n",
    "    replacement_dict.update(temp_dict)\n",
    "    \n",
    "    advanced_button_code = self.replace_params(self.advanced_button_code, replacement_dict)\n",
    "    \n",
    "    return advanced_button_code"
   ]
  },
  {
   "cell_type": "code",
   "execution_count": 22,
   "id": "00fa369f-c68d-49a6-a2d6-c8a7af998337",
   "metadata": {},
   "outputs": [
    {
     "name": "stdout",
     "output_type": "stream",
     "text": [
      "<!-- wp:zolo/advanced-button {\"label\":\"Yo Yo Button\",\"link\":{\"url\":\"Enter Your URL to the Universe\",\"openInNewTab\":false},\"uniqueId\":\"advanced-button-cs9u4c12\",\"parentClasses\":[\"zolo-block parent-advanced-button-cs9u4c12\"],\"zoloStyles\":{}} --> <div class=\"wp-block-zolo-advanced-button advanced-button-cs9u4c12 zolo-block parent-advanced-button-cs9u4c12\" > <div class=\"zolo-block-wrapper zolo-advanced-button advanced-button-cs9u4c12\"> <a class=\"zolo-button right\" href=\"Enter Your URL to the Universe\" title=\"Yo Yo Button\" ><span class=\"zolo-button-content\">Yo Yo Button</span></a > </div> </div> <!-- /wp:zolo/advanced-button -->\n"
     ]
    }
   ],
   "source": [
    "# # Debugging\n",
    "# sample_input = {\"Block_Name\": \"Advanced_Button\", \"Button_Name\": \"Yo Yo Button\", \"Button_URL\": \"Enter Your URL to the Universe\"}\n",
    "# advanced_button  = Advanced_Button(sample_input)\n",
    "# text = advanced_button.get_code()\n",
    "# print(text)"
   ]
  }
 ],
 "metadata": {
  "kernelspec": {
   "display_name": "Python 3 (ipykernel)",
   "language": "python",
   "name": "python3"
  },
  "language_info": {
   "codemirror_mode": {
    "name": "ipython",
    "version": 3
   },
   "file_extension": ".py",
   "mimetype": "text/x-python",
   "name": "python",
   "nbconvert_exporter": "python",
   "pygments_lexer": "ipython3",
   "version": "3.10.4"
  }
 },
 "nbformat": 4,
 "nbformat_minor": 5
}
