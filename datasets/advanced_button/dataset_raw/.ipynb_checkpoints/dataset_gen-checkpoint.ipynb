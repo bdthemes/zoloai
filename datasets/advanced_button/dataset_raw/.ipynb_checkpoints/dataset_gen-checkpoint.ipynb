{
 "cells": [
  {
   "cell_type": "markdown",
   "id": "9dd11b36-e661-455b-b9ec-e477afcd5ec0",
   "metadata": {
    "tags": []
   },
   "source": [
    "# Advanced Button"
   ]
  },
  {
   "cell_type": "code",
   "execution_count": 2,
   "id": "ad1068ce-9875-46a4-a278-6a5a473511d3",
   "metadata": {},
   "outputs": [],
   "source": [
    "import pandas as pd\n",
    "import random\n",
    "import nltk\n",
    "import ast"
   ]
  },
  {
   "cell_type": "code",
   "execution_count": 5,
   "id": "8327cc70-de4f-4180-a3c6-0dc9173c667c",
   "metadata": {},
   "outputs": [
    {
     "name": "stdout",
     "output_type": "stream",
     "text": [
      "['Input_Prompt' 'Button_Name' 'Button_URL']\n",
      "prompt_list length = 102\n",
      "button_name_list length = 139\n",
      "button_url_list length = 93\n"
     ]
    },
    {
     "data": {
      "text/plain": [
       "'<s> [INST] <<SYS>> Generate ZOLO block code required for the user input. Strictly follow the output format. Start output with ++ and end with ++ <<\\\\SYS>>User input: Generate an advanced button with name Google and URL www.google.com. [/INST] ++Output = {\"Block_Name\": \"Advanced_Button\", \"Button_Name\": Google, \"Button_URL\": www.google.com}++ </s> \\n'"
      ]
     },
     "execution_count": 5,
     "metadata": {},
     "output_type": "execute_result"
    }
   ],
   "source": [
    "prompt_data = pd.read_csv(r\"prompt_data.csv\")\n",
    "\n",
    "print(prompt_data.columns.values)\n",
    "\n",
    "prompt_list = ast.literal_eval(prompt_data['Input_Prompt'].values[0])\n",
    "button_name_list = ast.literal_eval(prompt_data['Button_Name'].values[0])\n",
    "button_url_list = ast.literal_eval(prompt_data['Button_URL'].values[0])\n",
    "\n",
    "print(f\"prompt_list length = {len(prompt_list)}\")\n",
    "print(f\"button_name_list length = {len(button_name_list)}\")\n",
    "print(f\"button_url_list length = {len(button_url_list)}\")\n",
    "\n",
    "# Output style\n",
    "# {\"Block_Name\": \"Advanced_Button\", \"Button_Name\": \"Name\", \"Button_URL\": \"URL\"}\n",
    "\n",
    "# Whole Prompt style\n",
    "# <s> [INST] <<SYS>> Generate ZOLO block code required for the user input. Strictly follow the output format. \n",
    "# Start output with ++ and end with ++ <<\\SYS>>User input: {promt} [/INST] ++Output = {Output}++ </s> \\n\n",
    "\n",
    "\n",
    "length = 500\n",
    "\n",
    "advanced_button_prompts = []\n",
    "\n",
    "for indx in range(length):\n",
    "    # Select prompt\n",
    "    try:\n",
    "        prompt = prompt_list[indx]\n",
    "    except:\n",
    "        prompt = random.choice(prompt_list)\n",
    "    \n",
    "    # add button name\n",
    "    try:\n",
    "        button_name = button_name_list[indx]\n",
    "    except:\n",
    "        button_name = random.choice(button_name_list)\n",
    "    \n",
    "    # add button url\n",
    "    try:\n",
    "        button_url = button_url_list[indx]\n",
    "    except:\n",
    "        button_url = random.choice(button_url_list)\n",
    "    \n",
    "    output = f\"{{\\\"Block_Name\\\": \\\"Advanced_Button\\\", \\\"Button_Name\\\": {button_name}, \\\"Button_URL\\\": {button_url}}}\"\n",
    "    whole_prompt = f\"<s> [INST] <<SYS>> Generate ZOLO block code required for the user input. Strictly follow the output format. Start output with ++ and end with ++ <<\\SYS>>User input: {prompt} [/INST] ++Output = {output}++ </s> \\n\"\n",
    "    advanced_button_prompts.append(whole_prompt)\n",
    "    \n",
    "advanced_button_prompts[0]    "
   ]
  },
  {
   "cell_type": "code",
   "execution_count": 12,
   "id": "fb73dfcf-c719-4993-b261-76ecf746724b",
   "metadata": {},
   "outputs": [],
   "source": [
    "random.shuffle(advanced_button_prompts)\n",
    "print(f\"Total {len(advanced_button_prompts)} data for advanced_button\")\n",
    "\n",
    "with open('advanced_button_data.txt', 'w', encoding=\"utf8\") as advanced_button_data:\n",
    "    for data in advanced_button_prompts:\n",
    "        advanced_button_data.write(data)"
   ]
  }
 ],
 "metadata": {
  "kernelspec": {
   "display_name": "Python 3 (ipykernel)",
   "language": "python",
   "name": "python3"
  },
  "language_info": {
   "codemirror_mode": {
    "name": "ipython",
    "version": 3
   },
   "file_extension": ".py",
   "mimetype": "text/x-python",
   "name": "python",
   "nbconvert_exporter": "python",
   "pygments_lexer": "ipython3",
   "version": "3.10.4"
  }
 },
 "nbformat": 4,
 "nbformat_minor": 5
}
