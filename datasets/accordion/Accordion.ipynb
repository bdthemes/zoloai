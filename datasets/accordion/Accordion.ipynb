{
 "cells": [
  {
   "cell_type": "code",
   "execution_count": 1,
   "id": "e12a54e8-20b9-4d46-828b-6d23b208ff50",
   "metadata": {},
   "outputs": [],
   "source": [
    "import re\n",
    "from nanoid import generate\n",
    "import pandas as pd\n",
    "import random\n",
    "import json"
   ]
  },
  {
   "cell_type": "code",
   "execution_count": 50,
   "id": "0e7f3c93-db7e-4366-b3e3-a846c4c2cdd4",
   "metadata": {},
   "outputs": [],
   "source": [
    "# Accordion output style\n",
    "# ++{\"Block_Name\": \"Accordion\", \"Accordion_Child_Number\": Child_Number, \"Accordion_Title\":[List of Title], \"Accordion_Contents\":[List of Contents]}++, \n",
    "# "
   ]
  },
  {
   "cell_type": "code",
   "execution_count": 2,
   "id": "c9ef5f29",
   "metadata": {},
   "outputs": [],
   "source": [
    "class Accordion():\n",
    "  def __init__(self, generated_input):\n",
    "    self.block_type = \"accordion\"\n",
    "    self.code_all = pd.read_csv (r'accordion_info.csv')\n",
    "    self.start_code = self.code_all[\"accordion_code_start\"].values[0]\n",
    "    self.end_code = self.code_all[\"accordion_end\"].values[0]\n",
    "    self.child_code = self.code_all[\"accordion_child\"].values[0]\n",
    "    \n",
    "    self.child_number = generated_input[\"Accordion_Child_Number\"]\n",
    "    self.child_titles = generated_input[\"Accordion_Title\"]\n",
    "    self.child_contents = generated_input[\"Accordion_Contents\"]\n",
    "    \n",
    "  # function to generate unique IDs\n",
    "  def gen_uniqueId(self):\n",
    "    # generate unique ID\n",
    "    # identified by [UNIQUE_ID] in the code\n",
    "    block_type = self.block_type\n",
    "    unique_ID_char = generate(\"123456789abcdefghijklmnopqrstuvwxyz\",size=8) # 8 character long  only number and alphabet\n",
    "    unique_ID = f\"{block_type}-{unique_ID_char}\"\n",
    "    return unique_ID\n",
    "\n",
    "  def replace_params(self, string, replacements):\n",
    "    # Regular expression to match custom placeholders\n",
    "    pattern = r'\\[([^\\[\\]]*)\\]'\n",
    "    return re.sub(pattern, lambda match: replacements.get(match.group(1), match.group(0)), string)\n",
    "\n",
    "  def gen_unique_id(self):\n",
    "    replacement_dict = {}\n",
    "    # generate UNIQUE_ID\n",
    "    unique_id = self.gen_uniqueId()\n",
    "    unique_id_name = f\"UNIQUE_ID_0\"\n",
    "    temp_dict = {unique_id_name:unique_id}\n",
    "    replacement_dict.update(temp_dict)\n",
    "    return replacement_dict\n",
    "\n",
    "  def get_code(self):\n",
    "    # Generate accordion start code\n",
    "    unique_ID_replacement_dict = self.gen_unique_id()\n",
    "    accordion_code = self.replace_params(self.start_code, unique_ID_replacement_dict)\n",
    "    \n",
    "    # Generate Childs\n",
    "    for child_number in range(self.child_number):\n",
    "        # Gen unique ID\n",
    "        replacement_dict = self.gen_unique_id()\n",
    "        \n",
    "        # Gen titles\n",
    "        try:\n",
    "            title = self.child_titles[child_number]\n",
    "        except:\n",
    "            title = f\"Generated_Title_For_Child_{child_number+1}\"\n",
    "        temp_dict = {\"Accordion_Title\":title}\n",
    "        replacement_dict.update(temp_dict)\n",
    "\n",
    "        # Generate contents\n",
    "        try:\n",
    "            contents = self.child_contents[child_number]\n",
    "        except:\n",
    "            contents = f\"Generated_Contents_For_Child_{child_number+1}\"\n",
    "        temp_dict = {\"Accordion_Content\":contents}\n",
    "        replacement_dict.update(temp_dict)\n",
    "        \n",
    "        child_code = self.replace_params(self.child_code, replacement_dict)\n",
    "        \n",
    "        accordion_code = accordion_code + child_code\n",
    "    \n",
    "    # Add the end code\n",
    "    accordion_code = accordion_code + self.end_code\n",
    "        \n",
    "    return accordion_code"
   ]
  },
  {
   "cell_type": "code",
   "execution_count": 3,
   "id": "00fa369f-c68d-49a6-a2d6-c8a7af998337",
   "metadata": {},
   "outputs": [
    {
     "name": "stdout",
     "output_type": "stream",
     "text": [
      "<!-- wp:zolo/accordion {\"uniqueId\":\"accordion-9qo8lzdy\",\"parentClasses\":[\"zolo-block parent-accordion-9qo8lzdy\"],\"zoloStyles\":{}} --> <div class=\"wp-block-zolo-accordion accordion-9qo8lzdy zolo-accordion-wrap accordion-container zolo-block parent-accordion-9qo8lzdy\" data-initialopen=\"1\" data-multiple=\"false\" ><!-- wp:zolo/accordion-child {\"title\":\"Mango\",\"uniqueId\":\"accordion-6zsz2t9n\",\"parentClasses\":[\"zolo-block parent-accordion-6zsz2t9n\"],\"zoloStyles\":{}} --> <div class=\"wp-block-zolo-accordion-child accordion-6zsz2t9n zolo-accordion-item ac zolo-block parent-accordion-6zsz2t9n\" > <button type=\"button\" class=\"ac-trigger zolo-accordion-head-item\"> <h4 class=\"zolo-accordion-head-title\">Mango</h4> <div class=\"zolo-accordion-toggle\"> <div class=\"zolo-accordion-collapsed-mode\"> <div class=\"zolo__display-icon\"> <svg xmlns=\"http://www.w3.org/2000/svg\" viewBox=\"0 0 448 512\"> <path d=\"M432 256c0 17.69-14.33 32.01-32 32.01H256v144c0 17.69-14.33 31.99-32 31.99s-32-14.3-32-31.99v-144H48c-17.67 0-32-14.32-32-32.01s14.33-31.99 32-31.99H192v-144c0-17.69 14.33-32.01 32-32.01s32 14.32 32 32.01v144h144C417.7 224 432 238.3 432 256z\" ></path> </svg> </div> </div> <div class=\"zolo-accordion-expanded-mode\"> <div class=\"zolo__display-icon\"> <svg xmlns=\"http://www.w3.org/2000/svg\" viewBox=\"0 0 448 512\"> <path d=\"M400 288h-352c-17.69 0-32-14.32-32-32.01s14.31-31.99 32-31.99h352c17.69 0 32 14.3 32 31.99S417.7 288 400 288z\" ></path> </svg> </div> </div> </div> </button> <div class=\"zolo-accordion-panel ac-panel\"> <div class=\"zolo-accordion-inner\"> <!-- wp:paragraph {\"placeholder\":\"Accordion Content\"} --> <p>The mango, with its sweet, juicy flesh and rich flavor, reigns as the king of tropical fruits.</p> <!-- /wp:paragraph --> </div> </div> </div> <!-- /wp:zolo/accordion-child --><!-- wp:zolo/accordion-child {\"title\":\"SmartPhone\",\"uniqueId\":\"accordion-dpe3as4n\",\"parentClasses\":[\"zolo-block parent-accordion-dpe3as4n\"],\"zoloStyles\":{}} --> <div class=\"wp-block-zolo-accordion-child accordion-dpe3as4n zolo-accordion-item ac zolo-block parent-accordion-dpe3as4n\" > <button type=\"button\" class=\"ac-trigger zolo-accordion-head-item\"> <h4 class=\"zolo-accordion-head-title\">SmartPhone</h4> <div class=\"zolo-accordion-toggle\"> <div class=\"zolo-accordion-collapsed-mode\"> <div class=\"zolo__display-icon\"> <svg xmlns=\"http://www.w3.org/2000/svg\" viewBox=\"0 0 448 512\"> <path d=\"M432 256c0 17.69-14.33 32.01-32 32.01H256v144c0 17.69-14.33 31.99-32 31.99s-32-14.3-32-31.99v-144H48c-17.67 0-32-14.32-32-32.01s14.33-31.99 32-31.99H192v-144c0-17.69 14.33-32.01 32-32.01s32 14.32 32 32.01v144h144C417.7 224 432 238.3 432 256z\" ></path> </svg> </div> </div> <div class=\"zolo-accordion-expanded-mode\"> <div class=\"zolo__display-icon\"> <svg xmlns=\"http://www.w3.org/2000/svg\" viewBox=\"0 0 448 512\"> <path d=\"M400 288h-352c-17.69 0-32-14.32-32-32.01s14.31-31.99 32-31.99h352c17.69 0 32 14.3 32 31.99S417.7 288 400 288z\" ></path> </svg> </div> </div> </div> </button> <div class=\"zolo-accordion-panel ac-panel\"> <div class=\"zolo-accordion-inner\"> <!-- wp:paragraph {\"placeholder\":\"Accordion Content\"} --> <p>Smartphones, multifaceted marvels of technology, seamlessly integrate communication, entertainment, and productivity into our daily lives, revolutionizing how we interact, work, and access information. With high-resolution displays, powerful processors, and vast app ecosystems, they serve as indispensable companions, enhancing convenience and connectivity in the digital age.</p> <!-- /wp:paragraph --> </div> </div> </div> <!-- /wp:zolo/accordion-child --><!-- wp:zolo/accordion-child {\"title\":\"Laptop\",\"uniqueId\":\"accordion-clu4d399\",\"parentClasses\":[\"zolo-block parent-accordion-clu4d399\"],\"zoloStyles\":{}} --> <div class=\"wp-block-zolo-accordion-child accordion-clu4d399 zolo-accordion-item ac zolo-block parent-accordion-clu4d399\" > <button type=\"button\" class=\"ac-trigger zolo-accordion-head-item\"> <h4 class=\"zolo-accordion-head-title\">Laptop</h4> <div class=\"zolo-accordion-toggle\"> <div class=\"zolo-accordion-collapsed-mode\"> <div class=\"zolo__display-icon\"> <svg xmlns=\"http://www.w3.org/2000/svg\" viewBox=\"0 0 448 512\"> <path d=\"M432 256c0 17.69-14.33 32.01-32 32.01H256v144c0 17.69-14.33 31.99-32 31.99s-32-14.3-32-31.99v-144H48c-17.67 0-32-14.32-32-32.01s14.33-31.99 32-31.99H192v-144c0-17.69 14.33-32.01 32-32.01s32 14.32 32 32.01v144h144C417.7 224 432 238.3 432 256z\" ></path> </svg> </div> </div> <div class=\"zolo-accordion-expanded-mode\"> <div class=\"zolo__display-icon\"> <svg xmlns=\"http://www.w3.org/2000/svg\" viewBox=\"0 0 448 512\"> <path d=\"M400 288h-352c-17.69 0-32-14.32-32-32.01s14.31-31.99 32-31.99h352c17.69 0 32 14.3 32 31.99S417.7 288 400 288z\" ></path> </svg> </div> </div> </div> </button> <div class=\"zolo-accordion-panel ac-panel\"> <div class=\"zolo-accordion-inner\"> <!-- wp:paragraph {\"placeholder\":\"Accordion Content\"} --> <p>Generated_Contents_For_Child_3</p> <!-- /wp:paragraph --> </div> </div> </div> <!-- /wp:zolo/accordion-child --></div> <!-- /wp:zolo/accordion -->\n"
     ]
    }
   ],
   "source": [
    "# Debugging\n",
    "sample_input = {\"Block_Name\": \"Accordion\", \"Accordion_Child_Number\": 3, \"Accordion_Titles\":[\"Mango\", \"SmartPhone\", \"Laptop\"], \n",
    "                \"Accordion_Contents\":[\"The mango, with its sweet, juicy flesh and rich flavor, reigns as the king of tropical fruits.\", \n",
    "                                      \"Smartphones, multifaceted marvels of technology, seamlessly integrate communication, entertainment, and productivity into our daily lives, revolutionizing how we interact, work, and access information. With high-resolution displays, powerful processors, and vast app ecosystems, they serve as indispensable companions, enhancing convenience and connectivity in the digital age.\"]}\n",
    "accordion  = Accordion(sample_input)\n",
    "text = accordion.get_code()\n",
    "print(text)"
   ]
  }
 ],
 "metadata": {
  "kernelspec": {
   "display_name": "Python 3 (ipykernel)",
   "language": "python",
   "name": "python3"
  },
  "language_info": {
   "codemirror_mode": {
    "name": "ipython",
    "version": 3
   },
   "file_extension": ".py",
   "mimetype": "text/x-python",
   "name": "python",
   "nbconvert_exporter": "python",
   "pygments_lexer": "ipython3",
   "version": "3.10.4"
  }
 },
 "nbformat": 4,
 "nbformat_minor": 5
}
