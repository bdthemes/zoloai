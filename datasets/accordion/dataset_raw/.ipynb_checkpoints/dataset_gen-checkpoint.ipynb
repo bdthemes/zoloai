{
 "cells": [
  {
   "cell_type": "markdown",
   "id": "9dd11b36-e661-455b-b9ec-e477afcd5ec0",
   "metadata": {
    "tags": []
   },
   "source": [
    "# Child Number 1"
   ]
  },
  {
   "cell_type": "code",
   "execution_count": 31,
   "id": "ad1068ce-9875-46a4-a278-6a5a473511d3",
   "metadata": {},
   "outputs": [],
   "source": [
    "import pandas as pd\n",
    "import random\n",
    "import nltk\n",
    "import ast"
   ]
  },
  {
   "cell_type": "code",
   "execution_count": 78,
   "id": "8327cc70-de4f-4180-a3c6-0dc9173c667c",
   "metadata": {},
   "outputs": [
    {
     "name": "stdout",
     "output_type": "stream",
     "text": [
      "['Input_Prompt' 'List of titles' 'List of Contents']\n",
      "prompt_list length = 96\n",
      "title_list length = 10\n",
      "title_list length = 10\n"
     ]
    },
    {
     "data": {
      "text/plain": [
       "'<s> [INST] <<SYS>> Generate ZOLO block code required for the user input. Strictly follow the output format. Start output with ++ and end with ++ <<\\\\SYS>>User input: Craft an article exploring the portrayal of social media platforms presented in an accordion format. [/INST] ++Output = {\"Block_Name\": \"Accordion\", \"Accordion_Child_Number\": 1, \"Accordion_Title\":[\\'blockchain technology\\'], \"Accordion_Contents\":[\\'Digital nomadism, the lifestyle of remote work and travel, embodies freedom and adventure in the digital age, yet confronts challenges of work-life balance and social isolation.\\']}++ </s> \\n'"
      ]
     },
     "execution_count": 78,
     "metadata": {},
     "output_type": "execute_result"
    }
   ],
   "source": [
    "data_child_1 = pd.read_csv(r\"child_num_1.csv\")\n",
    "\n",
    "print(data_child_1.columns.values)\n",
    "\n",
    "prompt_list = ast.literal_eval(data_child_1['Input_Prompt'].values[0])\n",
    "title_list = ast.literal_eval(data_child_1['List of titles'].values[0])\n",
    "content_list = ast.literal_eval(data_child_1['List of Contents'].values[0])\n",
    "\n",
    "print(f\"prompt_list length = {len(prompt_list)}\")\n",
    "print(f\"title_list length = {len(title_list)}\")\n",
    "print(f\"title_list length = {len(title_list)}\")\n",
    "\n",
    "# Output style\n",
    "# {\"Block_Name\": \"Accordion\", \"Accordion_Child_Number\": Child_Number, \"Accordion_Title\":[List of Titles], \"Accordion_Contents\":[List of Contents]}\n",
    "\n",
    "# Whole Prompt style\n",
    "# <s> [INST] <<SYS>> Generate ZOLO block code required for the user input. Strictly follow the output format. \n",
    "# Start output with ++ and end with ++ <<\\SYS>>User input: {promt} [/INST] ++Output = {Output}++ </s> \\n\n",
    "\n",
    "\n",
    "length = 150\n",
    "\n",
    "child_num = 1\n",
    "\n",
    "child_num_1_prompts = []\n",
    "\n",
    "for indx in range(length):\n",
    "    # Select prompt\n",
    "    try:\n",
    "        prompt = prompt_list[indx]\n",
    "    except:\n",
    "        prompt = random.choice(prompt_list)\n",
    "        \n",
    "    # Select Titles\n",
    "    list_of_titles = [random.choice(title_list) for _ in range(child_num)]\n",
    "    \n",
    "    # Select contents\n",
    "    list_of_contents = [random.choice(content_list) for _ in range(child_num)]\n",
    "    \n",
    "    output = f\"{{\\\"Block_Name\\\": \\\"Accordion\\\", \\\"Accordion_Child_Number\\\": {child_num}, \\\"Accordion_Title\\\":{list_of_titles}, \\\"Accordion_Contents\\\":{list_of_contents}}}\"\n",
    "    whole_prompt = f\"<s> [INST] <<SYS>> Generate ZOLO block code required for the user input. Strictly follow the output format. Start output with ++ and end with ++ <<\\SYS>>User input: {prompt} [/INST] ++Output = {output}++ </s> \\n\"\n",
    "    child_num_1_prompts.append(whole_prompt)\n",
    "    \n",
    "child_num_1_prompts[0]    "
   ]
  },
  {
   "cell_type": "markdown",
   "id": "719e00aa-e132-4288-aa93-2b5fe549d792",
   "metadata": {
    "tags": []
   },
   "source": [
    "# Child Number 2"
   ]
  },
  {
   "cell_type": "code",
   "execution_count": 79,
   "id": "e326036d-f6e8-4924-ba69-649e5b1e3860",
   "metadata": {},
   "outputs": [
    {
     "name": "stdout",
     "output_type": "stream",
     "text": [
      "['Input_Prompt' 'List of titles' 'List of Contents']\n",
      "prompt_list length = 16\n"
     ]
    },
    {
     "data": {
      "text/plain": [
       "'<s> [INST] <<SYS>> Generate ZOLO block code required for the user input. Strictly follow the output format. Start output with ++ and end with ++ <<\\\\SYS>>User input: Unravel the intertwined saga of smartphones and the internet, elegantly depicted in an accordion-like narrative. [/INST] ++Output = {\"Block_Name\": \"Accordion\", \"Accordion_Child_Number\": 2, \"Accordion_Title\":[\\'cloud computing\\', \\'blockchain technology\\'], \"Accordion_Contents\":[\\'Data analytics, the cornerstone of digital decision-making, unlocks insights and predictions from vast datasets, reshaping industries and empowering informed strategies.\\', \\'Blockchain technology, the decentralized backbone of digital transactions, promises transparency and security in a world of distrust and centralized control, ushering in a new era of peer-to-peer empowerment.\\']}++ </s> \\n'"
      ]
     },
     "execution_count": 79,
     "metadata": {},
     "output_type": "execute_result"
    }
   ],
   "source": [
    "data_child_2 = pd.read_csv(r\"child_num_2.csv\")\n",
    "\n",
    "print(data_child_2.columns.values)\n",
    "\n",
    "prompt_list = ast.literal_eval(data_child_2['Input_Prompt'].values[0])\n",
    "\n",
    "print(f\"prompt_list length = {len(prompt_list)}\")\n",
    "\n",
    "# Output style\n",
    "# {\"Block_Name\": \"Accordion\", \"Accordion_Child_Number\": Child_Number, \"Accordion_Title\":[List of Titles], \"Accordion_Contents\":[List of Contents]}\n",
    "\n",
    "# Whole Prompt style\n",
    "# <s> [INST] <<SYS>> Generate ZOLO block code required for the user input. Strictly follow the output format. \n",
    "# Start output with ++ and end with ++ <<\\SYS>>User input: {promt} [/INST] ++Output = {Output}++ </s> \\n\n",
    "\n",
    "\n",
    "length = 100\n",
    "\n",
    "child_num = 2\n",
    "\n",
    "child_num_2_prompts = []\n",
    "\n",
    "for indx in range(length):\n",
    "    # Select prompt\n",
    "    try:\n",
    "        prompt = prompt_list[indx]\n",
    "    except:\n",
    "        prompt = random.choice(prompt_list)\n",
    "        \n",
    "    # Select Titles\n",
    "    list_of_titles = [random.choice(title_list) for _ in range(child_num)]\n",
    "    \n",
    "    # Select contents\n",
    "    list_of_contents = [random.choice(content_list) for _ in range(child_num)]\n",
    "    \n",
    "    output = f\"{{\\\"Block_Name\\\": \\\"Accordion\\\", \\\"Accordion_Child_Number\\\": {child_num}, \\\"Accordion_Title\\\":{list_of_titles}, \\\"Accordion_Contents\\\":{list_of_contents}}}\"\n",
    "    whole_prompt = f\"<s> [INST] <<SYS>> Generate ZOLO block code required for the user input. Strictly follow the output format. Start output with ++ and end with ++ <<\\SYS>>User input: {prompt} [/INST] ++Output = {output}++ </s> \\n\"\n",
    "    child_num_2_prompts.append(whole_prompt)\n",
    "    \n",
    "\n",
    "child_num_2_prompts[0]"
   ]
  },
  {
   "cell_type": "markdown",
   "id": "9ee4e4d4-3e50-4ebc-af51-5a2aba998b02",
   "metadata": {
    "tags": []
   },
   "source": [
    "# Child Number 3"
   ]
  },
  {
   "cell_type": "code",
   "execution_count": 80,
   "id": "410ce8cb-b213-45f6-b20c-dd39e340937f",
   "metadata": {},
   "outputs": [
    {
     "name": "stdout",
     "output_type": "stream",
     "text": [
      "['Input_Prompt' 'List of titles' 'List of Contents']\n",
      "prompt_list length = 30\n"
     ]
    },
    {
     "data": {
      "text/plain": [
       "'<s> [INST] <<SYS>> Generate ZOLO block code required for the user input. Strictly follow the output format. Start output with ++ and end with ++ <<\\\\SYS>>User input: Dive into the realm of smartphones, internet, and 5G, seamlessly presented in an accordion format. [/INST] ++Output = {\"Block_Name\": \"Accordion\", \"Accordion_Child_Number\": 3, \"Accordion_Title\":[\\'digital marketing\\', \\'blockchain technology\\', \\'renewable energy sources\\'], \"Accordion_Contents\":[\\'Blockchain technology, the decentralized backbone of digital transactions, promises transparency and security in a world of distrust and centralized control, ushering in a new era of peer-to-peer empowerment.\\', \\'Data analytics, the cornerstone of digital decision-making, unlocks insights and predictions from vast datasets, reshaping industries and empowering informed strategies.\\', \\'Bioinformatics, the fusion of biology and informatics, drives breakthroughs in genomic research and personalized medicine, revolutionizing healthcare delivery and disease management.\\']}++ </s> \\n'"
      ]
     },
     "execution_count": 80,
     "metadata": {},
     "output_type": "execute_result"
    }
   ],
   "source": [
    "data_child_3 = pd.read_csv(r\"child_num_3.csv\")\n",
    "\n",
    "print(data_child_3.columns.values)\n",
    "\n",
    "prompt_list = ast.literal_eval(data_child_3['Input_Prompt'].values[0])\n",
    "\n",
    "print(f\"prompt_list length = {len(prompt_list)}\")\n",
    "\n",
    "# Output style\n",
    "# {\"Block_Name\": \"Accordion\", \"Accordion_Child_Number\": Child_Number, \"Accordion_Title\":[List of Titles], \"Accordion_Contents\":[List of Contents]}\n",
    "\n",
    "# Whole Prompt style\n",
    "# <s> [INST] <<SYS>> Generate ZOLO block code required for the user input. Strictly follow the output format. \n",
    "# Start output with ++ and end with ++ <<\\SYS>>User input: {promt} [/INST] ++Output = {Output}++ </s> \\n\n",
    "\n",
    "\n",
    "length = 100\n",
    "\n",
    "child_num = 3\n",
    "\n",
    "child_num_3_prompts = []\n",
    "\n",
    "for indx in range(length):\n",
    "    # Select prompt\n",
    "    try:\n",
    "        prompt = prompt_list[indx]\n",
    "    except:\n",
    "        prompt = random.choice(prompt_list)\n",
    "        \n",
    "    # Select Titles\n",
    "    list_of_titles = [random.choice(title_list) for _ in range(child_num)]\n",
    "    \n",
    "    # Select contents\n",
    "    list_of_contents = [random.choice(content_list) for _ in range(child_num)]\n",
    "    \n",
    "    output = f\"{{\\\"Block_Name\\\": \\\"Accordion\\\", \\\"Accordion_Child_Number\\\": {child_num}, \\\"Accordion_Title\\\":{list_of_titles}, \\\"Accordion_Contents\\\":{list_of_contents}}}\"\n",
    "    whole_prompt = f\"<s> [INST] <<SYS>> Generate ZOLO block code required for the user input. Strictly follow the output format. Start output with ++ and end with ++ <<\\SYS>>User input: {prompt} [/INST] ++Output = {output}++ </s> \\n\"\n",
    "    child_num_3_prompts.append(whole_prompt)\n",
    "    \n",
    "\n",
    "child_num_3_prompts[0]"
   ]
  },
  {
   "cell_type": "code",
   "execution_count": 84,
   "id": "e811c097-487d-4f24-bce0-77d179bcade9",
   "metadata": {},
   "outputs": [
    {
     "name": "stdout",
     "output_type": "stream",
     "text": [
      "Total 350 data for accordion\n"
     ]
    }
   ],
   "source": [
    "accordion_prompts = child_num_1_prompts + child_num_2_prompts + child_num_3_prompts\n",
    "random.shuffle(accordion_prompts)\n",
    "print(f\"Total {len(accordion_prompts)} data for accordion\")"
   ]
  },
  {
   "cell_type": "code",
   "execution_count": 85,
   "id": "2ceccf7d-98a9-4df4-ab0c-2299f2193279",
   "metadata": {},
   "outputs": [],
   "source": [
    "with open('accordion_data.txt', 'w', encoding=\"utf8\") as accordion_data:\n",
    "    for data in accordion_prompts:\n",
    "        accordion_data.write(data)"
   ]
  }
 ],
 "metadata": {
  "kernelspec": {
   "display_name": "Python 3 (ipykernel)",
   "language": "python",
   "name": "python3"
  },
  "language_info": {
   "codemirror_mode": {
    "name": "ipython",
    "version": 3
   },
   "file_extension": ".py",
   "mimetype": "text/x-python",
   "name": "python",
   "nbconvert_exporter": "python",
   "pygments_lexer": "ipython3",
   "version": "3.10.4"
  }
 },
 "nbformat": 4,
 "nbformat_minor": 5
}
