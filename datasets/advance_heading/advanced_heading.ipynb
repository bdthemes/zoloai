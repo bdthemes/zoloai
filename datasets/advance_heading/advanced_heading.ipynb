{
 "cells": [
  {
   "cell_type": "code",
   "execution_count": 1,
   "id": "e12a54e8-20b9-4d46-828b-6d23b208ff50",
   "metadata": {},
   "outputs": [],
   "source": [
    "import re\n",
    "from nanoid import generate\n",
    "import pandas as pd\n",
    "import random\n",
    "import json"
   ]
  },
  {
   "cell_type": "code",
   "execution_count": 13,
   "id": "0e7f3c93-db7e-4366-b3e3-a846c4c2cdd4",
   "metadata": {},
   "outputs": [],
   "source": [
    "# Advance Heading style\n",
    "# ++{\"Block_Name\": \"Advanced_Heading\", \"Main_Heading\": \"Main_Heading\", \"Heading_URL\": \"URL\"}++\n",
    "# "
   ]
  },
  {
   "cell_type": "code",
   "execution_count": 2,
   "id": "c9ef5f29",
   "metadata": {},
   "outputs": [],
   "source": [
    "class Advance_Heading():\n",
    "  def __init__(self, generated_input):\n",
    "    self.block_type = \"advanced-heading\"\n",
    "    self.code_all = pd.read_csv(r'advanced_heading_info.csv')\n",
    "    \n",
    "    # Extract Link\n",
    "    try:\n",
    "        self.main_heading_url = generated_input[\"Heading_URL\"]\n",
    "        self.advanced_heading_code = self.code_all[\"advanced_heading_code_link\"].values[0]\n",
    "        self.main_link = True\n",
    "    except:\n",
    "        self.advanced_heading_code = self.code_all[\"advanced_heading_code_no_link\"].values[0]\n",
    "        self.main_link = False\n",
    "    \n",
    "    # Extract Heading\n",
    "    try:\n",
    "        self.main_heading = generated_input[\"Main_Heading\"]\n",
    "    except:\n",
    "        self.main_heading = \"This is generated heading. Input your own.\"\n",
    "    \n",
    "  # function to generate unique IDs\n",
    "  def gen_uniqueId(self):\n",
    "    # generate unique ID\n",
    "    # identified by [UNIQUE_ID] in the code\n",
    "    block_type = self.block_type\n",
    "    unique_ID_char = generate(\"123456789abcdefghijklmnopqrstuvwxyz\",size=8) # 8 character long  only number and alphabet\n",
    "    unique_ID = f\"{block_type}-{unique_ID_char}\"\n",
    "    return unique_ID\n",
    "\n",
    "  def replace_params(self, string, replacements):\n",
    "    # Regular expression to match custom placeholders\n",
    "    pattern = r'\\[([^\\[\\]]*)\\]'\n",
    "    return re.sub(pattern, lambda match: replacements.get(match.group(1), match.group(0)), string)\n",
    "\n",
    "  def gen_unique_id(self):\n",
    "    replacement_dict = {}\n",
    "    # generate UNIQUE_ID\n",
    "    unique_id = self.gen_uniqueId()\n",
    "    unique_id_name = f\"UNIQUE_ID_0\"\n",
    "    temp_dict = {unique_id_name:unique_id}\n",
    "    replacement_dict.update(temp_dict)\n",
    "    return replacement_dict\n",
    "\n",
    "  def get_code(self):\n",
    "    # Add unique id\n",
    "    replacement_dict = self.gen_unique_id()\n",
    "    \n",
    "    # Add heading \n",
    "    temp_dict = {\"Main_Heading\":self.main_heading}\n",
    "    replacement_dict.update(temp_dict)\n",
    "    \n",
    "    if self.main_link:\n",
    "        # Add url\n",
    "        temp_dict = {\"MAIN_LINK\":self.main_heading_url}\n",
    "        replacement_dict.update(temp_dict)\n",
    "    \n",
    "    advanced_heading_code = self.replace_params(self.advanced_heading_code, replacement_dict)\n",
    "    \n",
    "    return advanced_heading_code"
   ]
  },
  {
   "cell_type": "code",
   "execution_count": 4,
   "id": "00fa369f-c68d-49a6-a2d6-c8a7af998337",
   "metadata": {},
   "outputs": [
    {
     "name": "stdout",
     "output_type": "stream",
     "text": [
      "<!-- wp:zolo/advanced-heading {\"titleText\":\"YOYO title\",\"enableTitleLink\":true,\"titleLink\":{\"url\":\"Google.com\",\"openInNewTab\":false},\"uniqueId\":\"advanced-heading-7tqladym\",\"parentClasses\":[\"zolo-block parent-advanced-heading-7tqladym\"],\"zoloStyles\":{\"desktop\":\".zolo-block-wrapper.advanced-heading-7tqladym { \\u002d\\u002dzb-advanced-heading-rotate:0deg }.zolo-block-wrapper.advanced-heading-7tqladym.zolo-ah-style-3 .zolo-ah-title { background-image:url(https://adored-eel-b33d9c.instawp.xyz/wp-content/plugins/zolo-blocks/assets/images/preset-bg.svg) }.zolo-block-wrapper.advanced-heading-7tqladym.zolo-ah-style-6 .zolo-ah-title { -webkit-text-stroke-width:1px; -webkit-text-stroke-color:rgba(6, 6, 7, 0.919) }.zolo-block-wrapper.advanced-heading-7tqladym .zolo-transparent-heading { opacity:0.14; display:inline-block; -webkit-transform:translate(var(\\u002d\\u002dzb-advanced-heading-pos-x, 0), var(\\u002d\\u002dzb-advanced-heading-pos-y, 0)) rotate(var(\\u002d\\u002dzb-advanced-heading-rotate, 0)); transform:translate(var(\\u002d\\u002dzb-advanced-heading-pos-x, 0), var(\\u002d\\u002dzb-advanced-heading-pos-y, 0)) rotate(var(\\u002d\\u002dzb-advanced-heading-rotate, 0)) }.zolo-block-wrapper.advanced-heading-7tqladym.zolo-ah-style-2 .zolo-transparent-heading { -webkit-text-stroke-width:3px; -webkit-text-stroke-color:rgba(6, 6, 7, 0.22) }.zolo-block-wrapper.advanced-heading-7tqladym .zolo-ah-separator { border-style:none none solid }\"},\"selectedPanel\":\"content\"} --> <div class=\"wp-block-zolo-advanced-heading advanced-heading-7tqladym zolo-block parent-advanced-heading-7tqladym\" > <div class=\"zolo-block-wrapper zolo-advanced-heading zolo-ah-style-0 advanced-heading-7tqladym\" > <h2 class=\"zolo-ah-title\"> <a class=\"zolo-ah-main-title has-link\" href=\"Google.com\" target=\"_self\" rel=\"noopener\" title=\"YOYO title\" >YOYO title</a > </h2> </div> </div> <!-- /wp:zolo/advanced-heading -->\n"
     ]
    }
   ],
   "source": [
    "# # Debugging\n",
    "sample_input = {\"Block_Name\": \"Advanced_Heading\", \"Main_Heading\": \"YOYO title\", \"Heading_URL\": \"Google.com\"}\n",
    "advanced_heading  = Advance_Heading(sample_input)\n",
    "text = advanced_heading.get_code()\n",
    "print(text)"
   ]
  }
 ],
 "metadata": {
  "kernelspec": {
   "display_name": "Python 3 (ipykernel)",
   "language": "python",
   "name": "python3"
  },
  "language_info": {
   "codemirror_mode": {
    "name": "ipython",
    "version": 3
   },
   "file_extension": ".py",
   "mimetype": "text/x-python",
   "name": "python",
   "nbconvert_exporter": "python",
   "pygments_lexer": "ipython3",
   "version": "3.10.4"
  }
 },
 "nbformat": 4,
 "nbformat_minor": 5
}
