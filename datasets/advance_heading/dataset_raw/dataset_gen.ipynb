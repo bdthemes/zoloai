{
 "cells": [
  {
   "cell_type": "markdown",
   "id": "9dd11b36-e661-455b-b9ec-e477afcd5ec0",
   "metadata": {
    "tags": []
   },
   "source": [
    "# Advanced Heading"
   ]
  },
  {
   "cell_type": "code",
   "execution_count": 18,
   "id": "ad1068ce-9875-46a4-a278-6a5a473511d3",
   "metadata": {},
   "outputs": [],
   "source": [
    "import pandas as pd\n",
    "import random\n",
    "import nltk\n",
    "import ast"
   ]
  },
  {
   "cell_type": "code",
   "execution_count": 30,
   "id": "2ab421c0",
   "metadata": {},
   "outputs": [],
   "source": [
    "def check_out_dict(ip_dict):\n",
    "    try:\n",
    "        ast.literal_eval(ip_dict)\n",
    "    except:\n",
    "        raise(Exception(\"Check output dictionary type\"))"
   ]
  },
  {
   "cell_type": "code",
   "execution_count": 31,
   "id": "f07e0fd7-725e-4d28-a5c3-58b662897957",
   "metadata": {},
   "outputs": [],
   "source": [
    "advanced_heading_prompts = []"
   ]
  },
  {
   "cell_type": "markdown",
   "id": "2b8a423c-c77b-4b00-8918-793a98d0a1c5",
   "metadata": {},
   "source": [
    "# With URL"
   ]
  },
  {
   "cell_type": "code",
   "execution_count": 32,
   "id": "8327cc70-de4f-4180-a3c6-0dc9173c667c",
   "metadata": {},
   "outputs": [
    {
     "name": "stdout",
     "output_type": "stream",
     "text": [
      "['Input_Prompt' 'Heading_Name' 'Heading_URL']\n",
      "prompt_list length = 52\n",
      "heading_name_list length = 58\n",
      "heading_url_list length = 93\n"
     ]
    },
    {
     "data": {
      "text/plain": [
       "{'text': '<s> [INST] <<SYS>> Generate ZOLO block code required for the user input. Strictly follow the output format. Start output with ++ and end with ++ <<\\\\SYS>> User input: Craft a heading titled \\'Explore Creative Writing\\' with a link to www.writersdigest.com. [/INST] ++Output = {\"Block_Name\": \"Advanced_Heading\", \"Main_Heading\": \"Discovering the Magic Within: A Journey of Self-Exploration\", \"Heading_URL\": \"www.google.com\"}++ </s> \\n'}"
      ]
     },
     "execution_count": 32,
     "metadata": {},
     "output_type": "execute_result"
    }
   ],
   "source": [
    "prompt_data = pd.read_csv(r\"prompt_data_with_url.csv\")\n",
    "\n",
    "print(prompt_data.columns.values)\n",
    "\n",
    "prompt_list = ast.literal_eval(prompt_data['Input_Prompt'].values[0])\n",
    "heading_name_list = ast.literal_eval(prompt_data['Heading_Name'].values[0])\n",
    "heading_url_list = ast.literal_eval(prompt_data['Heading_URL'].values[0])\n",
    "\n",
    "print(f\"prompt_list length = {len(prompt_list)}\")\n",
    "print(f\"heading_name_list length = {len(heading_name_list)}\")\n",
    "print(f\"heading_url_list length = {len(heading_url_list)}\")\n",
    "\n",
    "# Output style\n",
    "# {\"Block_Name\": \"Advanced_Heading\", \"Main_Heading\": \"Main_Heading\", \"Heading_URL\": \"URL\"}\n",
    "\n",
    "# Whole Prompt style\n",
    "# <s> [INST] <<SYS>> Generate ZOLO block code required for the user input. Strictly follow the output format. \n",
    "# Start output with ++ and end with ++ <<\\SYS>>User input: {promt} [/INST] ++Output = {Output}++ </s> \\n\n",
    "\n",
    "length = 150\n",
    "\n",
    "for indx in range(length):\n",
    "    # Select prompt\n",
    "    try:\n",
    "        prompt = prompt_list[indx]\n",
    "    except:\n",
    "        prompt = random.choice(prompt_list)\n",
    "    \n",
    "    # add heading name\n",
    "    try:\n",
    "        heading_name = heading_name_list[indx]\n",
    "    except:\n",
    "        heading_name = random.choice(heading_name_list)\n",
    "    \n",
    "    # add heading url\n",
    "    try:\n",
    "        heading_url = heading_url_list[indx]\n",
    "    except:\n",
    "        heading_url = random.choice(heading_url_list)\n",
    "\n",
    "    output = f\"{{\\\"Block_Name\\\": \\\"Advanced_Heading\\\", \\\"Main_Heading\\\": \\\"{heading_name}\\\", \\\"Heading_URL\\\": \\\"{heading_url}\\\"}}\"\n",
    "    check_out_dict(output)\n",
    "    whole_prompt = f\"\"\"<s> [INST] <<SYS>> Generate ZOLO block code required for the user input. Strictly follow the output format. Start output with ++ and end with ++ <<\\SYS>> User input: {prompt} [/INST] ++Output = {output}++ </s> \\n\"\"\"\n",
    "    \n",
    "    # whole_prompt = f\"\"\"<start_of_turn>system Generate ZOLO block code required for the user input. Strictly follow the output format. Start output with ++ and end with ++ <end_of_turn> <start_of_turn>user {prompt} <end_of_turn> <start_of_turn>model ++Output = {output}++ <end_of_turn>\"\"\"\n",
    "    \n",
    "    advanced_heading_prompts.append({\"text\":whole_prompt})\n",
    "    \n",
    "advanced_heading_prompts[0]    "
   ]
  },
  {
   "cell_type": "markdown",
   "id": "5718a538-7602-4613-a87d-1d879125d3a2",
   "metadata": {},
   "source": [
    "# Without URL"
   ]
  },
  {
   "cell_type": "code",
   "execution_count": 33,
   "id": "f56ff70b-0fe0-4fa6-9eae-8a0a62199d7d",
   "metadata": {},
   "outputs": [
    {
     "name": "stdout",
     "output_type": "stream",
     "text": [
      "['Input_Prompt' 'Heading_Name' 'Heading_URL']\n",
      "heading_list length = 54\n",
      "heading_name_list length = 58\n"
     ]
    },
    {
     "data": {
      "text/plain": [
       "{'text': '<s> [INST] <<SYS>> Generate ZOLO block code required for the user input. Strictly follow the output format. Start output with ++ and end with ++ <<\\\\SYS>> User input: Design an illuminating heading: \\'Persona Portrait: Person 1\\' [/INST] ++Output = {\"Block_Name\": \"Advanced_Heading\", \"Main_Heading\": \"Beyond the Horizon: Tales of Adventure and Discovery\"}++ </s> \\n'}"
      ]
     },
     "execution_count": 33,
     "metadata": {},
     "output_type": "execute_result"
    }
   ],
   "source": [
    "prompt_data = pd.read_csv(r\"prompt_data_without_url.csv\")\n",
    "\n",
    "print(prompt_data.columns.values)\n",
    "\n",
    "prompt_list = ast.literal_eval(prompt_data['Input_Prompt'].values[0])\n",
    "heading_name_list = ast.literal_eval(prompt_data['Heading_Name'].values[0])\n",
    "\n",
    "print(f\"heading_list length = {len(prompt_list)}\")\n",
    "print(f\"heading_name_list length = {len(heading_name_list)}\")\n",
    "\n",
    "# Output style\n",
    "# {\"Block_Name\": \"Advanced_Heading\", \"Main_Heading\": \"Main_Heading\", \"Heading_URL\": \"URL\"}\n",
    "\n",
    "# Whole Prompt style\n",
    "# <s> [INST] <<SYS>> Generate ZOLO block code required for the user input. Strictly follow the output format. \n",
    "# Start output with ++ and end with ++ <<\\SYS>>User input: {promt} [/INST] ++Output = {Output}++ </s> \\n\n",
    "\n",
    "length = 120\n",
    "\n",
    "for indx in range(length):\n",
    "    # Select prompt\n",
    "    try:\n",
    "        prompt = prompt_list[indx]\n",
    "    except:\n",
    "        prompt = random.choice(prompt_list)\n",
    "    \n",
    "    # add heading name\n",
    "    try:\n",
    "        heading_name = heading_name_list[indx]\n",
    "    except:\n",
    "        heading_name = random.choice(heading_name_list)\n",
    "\n",
    "    output = f\"{{\\\"Block_Name\\\": \\\"Advanced_Heading\\\", \\\"Main_Heading\\\": \\\"{heading_name}\\\"}}\"\n",
    "    check_out_dict(output)\n",
    "    whole_prompt = f\"\"\"<s> [INST] <<SYS>> Generate ZOLO block code required for the user input. Strictly follow the output format. Start output with ++ and end with ++ <<\\SYS>> User input: {prompt} [/INST] ++Output = {output}++ </s> \\n\"\"\"\n",
    "    # whole_prompt = f\"\"\"<start_of_turn>system Generate ZOLO block code required for the user input. Strictly follow the output format. Start output with ++ and end with ++ <end_of_turn> <start_of_turn>user {prompt} <end_of_turn> <start_of_turn>model ++Output = {output}++ <end_of_turn>\"\"\"\n",
    "    \n",
    "    advanced_heading_prompts.append({\"text\":whole_prompt})\n",
    "    \n",
    "advanced_heading_prompts[-1]    "
   ]
  },
  {
   "cell_type": "code",
   "execution_count": 34,
   "id": "fb73dfcf-c719-4993-b261-76ecf746724b",
   "metadata": {},
   "outputs": [
    {
     "name": "stdout",
     "output_type": "stream",
     "text": [
      "Total 270 data for advanced_button\n"
     ]
    }
   ],
   "source": [
    "random.shuffle(advanced_heading_prompts)\n",
    "print(f\"Total {len(advanced_heading_prompts)} data for advanced_button\")\n",
    "\n",
    "dataset = pd.DataFrame(advanced_heading_prompts)\n",
    "dataset.to_csv('advanced_heading.csv', index=False)"
   ]
  }
 ],
 "metadata": {
  "kernelspec": {
   "display_name": "Python 3 (ipykernel)",
   "language": "python",
   "name": "python3"
  },
  "language_info": {
   "codemirror_mode": {
    "name": "ipython",
    "version": 3
   },
   "file_extension": ".py",
   "mimetype": "text/x-python",
   "name": "python",
   "nbconvert_exporter": "python",
   "pygments_lexer": "ipython3",
   "version": "3.10.4"
  }
 },
 "nbformat": 4,
 "nbformat_minor": 5
}
